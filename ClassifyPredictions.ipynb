{
 "cells": [
  {
   "cell_type": "code",
   "execution_count": 146,
   "metadata": {
    "collapsed": false
   },
   "outputs": [],
   "source": [
    "import pandas as pd\n",
    "import numpy as np\n",
    "import requests\n",
    "import sqlite3\n",
    "import datetime\n",
    "import re\n",
    "from sklearn.svm import SVC\n",
    "from sklearn.neighbors import KNeighborsClassifier\n",
    "from sklearn.model_selection import train_test_split\n",
    "from sklearn.tree import DecisionTreeClassifier\n",
    "from sklearn.naive_bayes import GaussianNB\n",
    "from sklearn.gaussian_process import GaussianProcessClassifier\n",
    "from sqlite_api import SLOHouseDatabase\n",
    "def classify_predict(df, X_vars, y_var,SVC_inclusion=True,kNN=True,Naive=True,Gaussian=True,DecTree=True):\n",
    "    if type(X_vars) is not list:\n",
    "        X = df[X_vars].reshape(-1,1)\n",
    "    else:\n",
    "        X = df[X_vars]\n",
    "    y = df[y_var]\n",
    "\n",
    "    X_train, X_test, y_train, y_test = train_test_split(X, y, test_size=0.33, random_state=26)\n",
    "    length=len(df)\n",
    "    \n",
    "    print('Classification Accuracies')\n",
    "    if SVC_inclusion:\n",
    "        svc1=SVC()\n",
    "        svc1.fit(X_train, y_train)\n",
    "        initial=[[predict] for predict in svc1.predict(X_test)]\n",
    "\n",
    "        print('Support Vector: ' + str(svc1.score(X_test, y_test)))\n",
    "    if kNN:\n",
    "        max_score = 0\n",
    "        for i in range(1, 6):\n",
    "            kNN = KNeighborsClassifier(n_neighbors=i)\n",
    "            kNN.fit(X_train, y_train)\n",
    "            cur_score = kNN.score(X_test, y_test)\n",
    "            if cur_score > max_score:\n",
    "                max_score = cur_score\n",
    "                maxN = i\n",
    "        kNN = KNeighborsClassifier(n_neighbors=maxN)\n",
    "        kNN.fit(X_train, y_train)\n",
    "        i=0\n",
    "        if SVC_inclusion==False:\n",
    "            initial=[[predict] for predict in kNN.predict(X_test)]\n",
    "        else:\n",
    "            for predict in kNN.predict(X_test):\n",
    "                initial[i].append(predict)\n",
    "                i+=1\n",
    "        print('kNN (N = '+str(maxN)+'): ' + str(max_score))\n",
    "    if DecTree:\n",
    "        dtc = DecisionTreeClassifier()\n",
    "        dtc.fit(X_train, y_train)\n",
    "        i=0\n",
    "        for predict in dtc.predict(X_test):\n",
    "            initial[i].append(predict)\n",
    "            i+=1\n",
    "        print('Decision Tree: ' + str(dtc.score(X_test, y_test)))\n",
    "    if Naive:\n",
    "        nbc = GaussianNB()\n",
    "        nbc.fit(X_train, y_train)\n",
    "        i=0\n",
    "        for predict in nbc.predict(X_test):\n",
    "            initial[i].append(predict)\n",
    "            i+=1\n",
    "        print('Naive Bayes: '+ str(nbc.score(X_test, y_test)))\n",
    "    if Gaussian:\n",
    "        gpc = GaussianProcessClassifier()\n",
    "        gpc.fit(X_train, y_train)\n",
    "        i=0\n",
    "        for predict in gpc.predict(X_test):\n",
    "            initial[i].append(predict)\n",
    "            i+=1\n",
    "        print('Gaussian Process: '+ str(gpc.score(X_test, y_test)))\n",
    "    prediction=[max(set(lst), key=lst.count) for lst in initial]\n",
    "    right=[prediction[i]==y_test.reset_index()[y_var][i] for i in range(len(y_test))]\n",
    "    print(\"Ensemble Accuracy is\",np.sum(right)/len(right))"
   ]
  },
  {
   "cell_type": "code",
   "execution_count": 109,
   "metadata": {
    "collapsed": false
   },
   "outputs": [
    {
     "data": {
      "text/html": [
       "<div>\n",
       "<table border=\"1\" class=\"dataframe\">\n",
       "  <thead>\n",
       "    <tr style=\"text-align: right;\">\n",
       "      <th></th>\n",
       "      <th>ID</th>\n",
       "      <th>MLS_ID</th>\n",
       "      <th>CITY</th>\n",
       "      <th>ADDRESS</th>\n",
       "      <th>BED</th>\n",
       "      <th>BATH</th>\n",
       "      <th>LIST_PRICE</th>\n",
       "      <th>SQ_FOOTAGE</th>\n",
       "      <th>PRICE_PER_SQFT</th>\n",
       "      <th>LIST_DATE</th>\n",
       "      <th>ID</th>\n",
       "      <th>SUBTYPE</th>\n",
       "      <th>AREA</th>\n",
       "      <th>YR_BUILT</th>\n",
       "      <th>LOT_SQFT</th>\n",
       "      <th>VIEW</th>\n",
       "      <th>POOL</th>\n",
       "      <th>ARB_COMISSION</th>\n",
       "    </tr>\n",
       "  </thead>\n",
       "  <tbody>\n",
       "    <tr>\n",
       "      <th>0</th>\n",
       "      <td>8538</td>\n",
       "      <td>1069605</td>\n",
       "      <td>Arroyo Grande</td>\n",
       "      <td>4410 Upper Lopez Canyon</td>\n",
       "      <td>1</td>\n",
       "      <td>1</td>\n",
       "      <td>345000.0</td>\n",
       "      <td>720.0</td>\n",
       "      <td>479.0</td>\n",
       "      <td>2016-10-13</td>\n",
       "      <td>1</td>\n",
       "      <td>SFR/D</td>\n",
       "      <td>ARRG</td>\n",
       "      <td>1985</td>\n",
       "      <td>1764842</td>\n",
       "      <td>1</td>\n",
       "      <td>0</td>\n",
       "      <td>3.5</td>\n",
       "    </tr>\n",
       "  </tbody>\n",
       "</table>\n",
       "</div>"
      ],
      "text/plain": [
       "     ID   MLS_ID           CITY                  ADDRESS  BED  BATH  \\\n",
       "0  8538  1069605  Arroyo Grande  4410 Upper Lopez Canyon    1     1   \n",
       "\n",
       "   LIST_PRICE  SQ_FOOTAGE  PRICE_PER_SQFT   LIST_DATE  ID SUBTYPE  AREA  \\\n",
       "0    345000.0       720.0           479.0  2016-10-13   1   SFR/D  ARRG   \n",
       "\n",
       "   YR_BUILT  LOT_SQFT  VIEW  POOL  ARB_COMISSION  \n",
       "0      1985   1764842     1     0            3.5  "
      ]
     },
     "execution_count": 109,
     "metadata": {},
     "output_type": "execute_result"
    }
   ],
   "source": [
    "dbquery = SLOHouseDatabase()\n",
    "df = dbquery.get_dataframe_from_query(\"SELECT * FROM HOUSES JOIN MLS_LISTINGS USING (MLS_ID)\")\n",
    "df.head(1)"
   ]
  },
  {
   "cell_type": "code",
   "execution_count": 110,
   "metadata": {
    "collapsed": true
   },
   "outputs": [],
   "source": [
    "def extract_subtype(subtype):\n",
    "    if (subtype.split('/')[1] == 'D'):\n",
    "        return 0\n",
    "    return 1\n",
    "def extract_decade(year):\n",
    "    if year == 0:\n",
    "        return 'N/A'\n",
    "    if year < 1960:\n",
    "        return '< 60s'\n",
    "    if year < 1970:\n",
    "        return '60s'\n",
    "    if year < 1980:\n",
    "        return '70s'\n",
    "    if year < 1990:\n",
    "        return '80s'\n",
    "    if year < 2000:\n",
    "        return '90s'\n",
    "    if year < 2010:\n",
    "        return '2000s'\n",
    "    return '2010s'"
   ]
  },
  {
   "cell_type": "code",
   "execution_count": 111,
   "metadata": {
    "collapsed": false
   },
   "outputs": [],
   "source": [
    "df['Apartment'] = df['SUBTYPE'].apply(extract_subtype)\n",
    "df = pd.concat([df, pd.get_dummies(df.CITY)], axis=1)"
   ]
  },
  {
   "cell_type": "code",
   "execution_count": 112,
   "metadata": {
    "collapsed": true
   },
   "outputs": [],
   "source": [
    "class_vars = ['Arroyo Grande',\n",
    "             'Atascadero',\n",
    "             'Avila Beach',\n",
    "             'Morro Bay',\n",
    "             'Pismo Beach',\n",
    "             'San Luis Obispo',\n",
    "             'Templeton',\n",
    "             'BED',\n",
    "             'BATH',\n",
    "             'LIST_PRICE',\n",
    "             'SQ_FOOTAGE',\n",
    "             'PRICE_PER_SQFT',\n",
    "             'LOT_SQFT',\n",
    "             'ARB_COMISSION',\n",
    "             'POOL'\n",
    "             ]"
   ]
  },
  {
   "cell_type": "code",
   "execution_count": 113,
   "metadata": {
    "collapsed": true
   },
   "outputs": [],
   "source": [
    "X = df[class_vars]\n",
    "y = df['Apartment']\n",
    "\n",
    "X_train, X_test, y_train, y_test = train_test_split(X, y, test_size=0.33, random_state=26)"
   ]
  },
  {
   "cell_type": "code",
   "execution_count": 114,
   "metadata": {
    "collapsed": false
   },
   "outputs": [
    {
     "name": "stdout",
     "output_type": "stream",
     "text": [
      "Classification Accuracies\n",
      "Support Vector: 0.868421052632\n",
      "kNN (N = 2): 0.848684210526\n",
      "Decision Tree: 0.855263157895\n",
      "Naive Bayes: 0.328947368421\n",
      "Gaussian Process: 0.868421052632\n",
      "Ensemble Accuracy is 0.855263157895\n"
     ]
    }
   ],
   "source": [
    "classify_predict(df, 'LOT_SQFT', 'Apartment')"
   ]
  },
  {
   "cell_type": "code",
   "execution_count": null,
   "metadata": {
    "collapsed": false
   },
   "outputs": [],
   "source": []
  },
  {
   "cell_type": "code",
   "execution_count": 115,
   "metadata": {
    "collapsed": false
   },
   "outputs": [
    {
     "name": "stdout",
     "output_type": "stream",
     "text": [
      "Classification Accuracies\n",
      "Support Vector: 0.868421052632\n",
      "kNN (N = 2): 0.848684210526\n",
      "Decision Tree: 0.855263157895\n",
      "Gaussian Process: 0.868421052632\n",
      "Ensemble Accuracy is 0.881578947368\n"
     ]
    }
   ],
   "source": [
    "classify_predict(df, 'LOT_SQFT', 'Apartment',Naive=False)"
   ]
  },
  {
   "cell_type": "code",
   "execution_count": 116,
   "metadata": {
    "collapsed": false
   },
   "outputs": [
    {
     "name": "stdout",
     "output_type": "stream",
     "text": [
      "Classification Accuracies\n",
      "Support Vector: 0.731343283582\n",
      "Decision Tree: 0.686567164179\n",
      "Gaussian Process: 0.716417910448\n",
      "Ensemble Accuracy is 0.731343283582\n"
     ]
    }
   ],
   "source": [
    "df['Decade'] = df.YR_BUILT.apply(extract_decade)\n",
    "mod_df = df[df['Decade'] != 'N/A']\n",
    "classify_predict(mod_df, class_vars, 'Decade', Naive=False,kNN=False)"
   ]
  },
  {
   "cell_type": "code",
   "execution_count": 117,
   "metadata": {
    "collapsed": true
   },
   "outputs": [],
   "source": [
    "class_vars = ['Arroyo Grande',\n",
    "             'Atascadero',\n",
    "             'Avila Beach',\n",
    "             'Morro Bay',\n",
    "             'Pismo Beach',\n",
    "             'San Luis Obispo',\n",
    "             'Templeton',\n",
    "             'Apartment',\n",
    "             'LIST_PRICE',\n",
    "             'SQ_FOOTAGE',\n",
    "             'PRICE_PER_SQFT',\n",
    "             'LOT_SQFT',\n",
    "             'ARB_COMISSION',\n",
    "             'POOL'\n",
    "             ]\n"
   ]
  },
  {
   "cell_type": "code",
   "execution_count": 118,
   "metadata": {
    "collapsed": false
   },
   "outputs": [],
   "source": [
    "df['Rooms']=df['BED']+df['BATH']\n",
    "df['Big']=0\n",
    "df.loc[df['Rooms']>4,'Big']=1"
   ]
  },
  {
   "cell_type": "code",
   "execution_count": 119,
   "metadata": {
    "collapsed": false
   },
   "outputs": [
    {
     "name": "stdout",
     "output_type": "stream",
     "text": [
      "Classification Accuracies\n",
      "Support Vector: 0.973684210526\n",
      "kNN (N = 1): 0.973684210526\n",
      "Decision Tree: 0.973684210526\n",
      "Naive Bayes: 0.842105263158\n",
      "Gaussian Process: 0.75\n",
      "Ensemble Accuracy is 0.986842105263\n"
     ]
    }
   ],
   "source": [
    "slo=df.ix[df['CITY']==\"San Luis Obispo\"]\n",
    "\n",
    "classify_predict(df, class_vars, 'Big')"
   ]
  },
  {
   "cell_type": "code",
   "execution_count": 120,
   "metadata": {
    "collapsed": false
   },
   "outputs": [
    {
     "name": "stdout",
     "output_type": "stream",
     "text": [
      "Classification Accuracies\n",
      "Support Vector: 0.973684210526\n",
      "kNN (N = 1): 0.973684210526\n",
      "Decision Tree: 0.960526315789\n",
      "Naive Bayes: 0.842105263158\n",
      "Ensemble Accuracy is 0.986842105263\n"
     ]
    }
   ],
   "source": [
    "classify_predict(df,class_vars,'Big',Gaussian=False)"
   ]
  },
  {
   "cell_type": "code",
   "execution_count": 121,
   "metadata": {
    "collapsed": false
   },
   "outputs": [
    {
     "name": "stdout",
     "output_type": "stream",
     "text": [
      "Classification Accuracies\n",
      "Support Vector: 0.9\n",
      "kNN (N = 2): 0.95\n",
      "Decision Tree: 0.9\n",
      "Naive Bayes: 0.75\n",
      "Gaussian Process: 0.8\n",
      "Ensemble Accuracy is 1.0\n"
     ]
    }
   ],
   "source": [
    "class_vars = ['Apartment',\n",
    "             'LIST_PRICE',\n",
    "             'SQ_FOOTAGE',\n",
    "             'PRICE_PER_SQFT',\n",
    "             'LOT_SQFT',\n",
    "             'ARB_COMISSION',\n",
    "             'POOL'\n",
    "             ]\n",
    "classify_predict(slo,class_vars,'Big')"
   ]
  },
  {
   "cell_type": "code",
   "execution_count": 122,
   "metadata": {
    "collapsed": false
   },
   "outputs": [],
   "source": [
    "class_vars = ['Arroyo Grande',\n",
    "             'Atascadero',\n",
    "             'Avila Beach',\n",
    "             'Morro Bay',\n",
    "             'Pismo Beach',\n",
    "             'San Luis Obispo',\n",
    "             'Templeton',\n",
    "             'BED',\n",
    "             'BATH',\n",
    "             'Apartment',\n",
    "             'SQ_FOOTAGE',\n",
    "             'PRICE_PER_SQFT',\n",
    "             'LOT_SQFT',\n",
    "             'ARB_COMISSION',\n",
    "             'POOL'\n",
    "             ]\n",
    "df['Expensive']=0\n",
    "df.loc[df['LIST_PRICE']>df['LIST_PRICE'].mean(),'Expensive']=1"
   ]
  },
  {
   "cell_type": "code",
   "execution_count": 123,
   "metadata": {
    "collapsed": false
   },
   "outputs": [
    {
     "name": "stdout",
     "output_type": "stream",
     "text": [
      "Classification Accuracies\n",
      "Support Vector: 0.868421052632\n",
      "kNN (N = 1): 0.973684210526\n",
      "Decision Tree: 1.0\n",
      "Gaussian Process: 0.868421052632\n",
      "Ensemble Accuracy is 0.868421052632\n"
     ]
    }
   ],
   "source": [
    "classify_predict(df,class_vars,'Expensive',Naive=False)"
   ]
  },
  {
   "cell_type": "code",
   "execution_count": 124,
   "metadata": {
    "collapsed": true
   },
   "outputs": [],
   "source": [
    "slo=df.ix[df['CITY']==\"San Luis Obispo\"]"
   ]
  },
  {
   "cell_type": "code",
   "execution_count": 125,
   "metadata": {
    "collapsed": false
   },
   "outputs": [
    {
     "name": "stdout",
     "output_type": "stream",
     "text": [
      "Classification Accuracies\n",
      "Support Vector: 0.95\n",
      "kNN (N = 1): 0.95\n",
      "Decision Tree: 0.95\n",
      "Naive Bayes: 0.875\n",
      "Gaussian Process: 0.95\n",
      "Ensemble Accuracy is 1.0\n"
     ]
    }
   ],
   "source": [
    "class_vars = ['BED',\n",
    "             'BATH',\n",
    "             'Apartment',\n",
    "             'SQ_FOOTAGE',\n",
    "             'PRICE_PER_SQFT',\n",
    "             'LOT_SQFT',\n",
    "             'ARB_COMISSION',\n",
    "             'POOL'\n",
    "             ]\n",
    "classify_predict(slo,class_vars,'Expensive')"
   ]
  },
  {
   "cell_type": "code",
   "execution_count": null,
   "metadata": {
    "collapsed": false
   },
   "outputs": [],
   "source": []
  },
  {
   "cell_type": "code",
   "execution_count": 137,
   "metadata": {
    "collapsed": true
   },
   "outputs": [],
   "source": [
    "class_vars = ['Arroyo Grande',\n",
    "             'Atascadero',\n",
    "             'Avila Beach',\n",
    "             'Morro Bay',\n",
    "             'Pismo Beach',\n",
    "             'San Luis Obispo',\n",
    "             'Templeton',\n",
    "             'Apartment',\n",
    "             'LIST_PRICE',\n",
    "             'SQ_FOOTAGE',\n",
    "             'LOT_SQFT',\n",
    "             'ARB_COMISSION',\n",
    "             'BED','BATH', 'POOL'\n",
    "             ]\n"
   ]
  },
  {
   "cell_type": "code",
   "execution_count": 147,
   "metadata": {
    "collapsed": false
   },
   "outputs": [],
   "source": [
    "df['Overpriced']=0\n",
    "df.loc[df['PRICE_PER_SQFT']>df['PRICE_PER_SQFT'].mean(),'Overpriced']=1"
   ]
  },
  {
   "cell_type": "code",
   "execution_count": 148,
   "metadata": {
    "collapsed": false
   },
   "outputs": [
    {
     "name": "stdout",
     "output_type": "stream",
     "text": [
      "Classification Accuracies\n",
      "kNN (N = 1): 0.868421052632\n",
      "Decision Tree: 0.960526315789\n",
      "Gaussian Process: 0.855263157895\n",
      "Ensemble Accuracy is 0.907894736842\n"
     ]
    }
   ],
   "source": [
    "classify_predict(df,class_vars,'Overpriced',Naive=False,SVC_inclusion=False)"
   ]
  },
  {
   "cell_type": "code",
   "execution_count": 149,
   "metadata": {
    "collapsed": false
   },
   "outputs": [
    {
     "name": "stdout",
     "output_type": "stream",
     "text": [
      "Classification Accuracies\n",
      "Support Vector: 0.855263157895\n",
      "kNN (N = 1): 0.868421052632\n",
      "Decision Tree: 0.973684210526\n",
      "Naive Bayes: 0.723684210526\n",
      "Gaussian Process: 0.855263157895\n",
      "Ensemble Accuracy is 0.894736842105\n"
     ]
    }
   ],
   "source": [
    "classify_predict(df,class_vars,'Overpriced')"
   ]
  },
  {
   "cell_type": "code",
   "execution_count": 150,
   "metadata": {
    "collapsed": true
   },
   "outputs": [],
   "source": [
    "notslo=df.ix[df['CITY']!=\"San Luis Obispo\"]"
   ]
  },
  {
   "cell_type": "code",
   "execution_count": 157,
   "metadata": {
    "collapsed": false
   },
   "outputs": [
    {
     "name": "stdout",
     "output_type": "stream",
     "text": [
      "Classification Accuracies\n",
      "kNN (N = 1): 0.892857142857\n",
      "Decision Tree: 0.910714285714\n",
      "Gaussian Process: 0.928571428571\n",
      "Ensemble Accuracy is 0.928571428571\n"
     ]
    }
   ],
   "source": [
    "classify_predict(notslo,class_vars,'Overpriced')"
   ]
  },
  {
   "cell_type": "code",
   "execution_count": 158,
   "metadata": {
    "collapsed": true
   },
   "outputs": [],
   "source": [
    "slo=df.ix[df['CITY']==\"San Luis Obispo\"]"
   ]
  },
  {
   "cell_type": "code",
   "execution_count": 163,
   "metadata": {
    "collapsed": false
   },
   "outputs": [
    {
     "name": "stdout",
     "output_type": "stream",
     "text": [
      "Classification Accuracies\n",
      "kNN (N = 1): 0.95\n",
      "Decision Tree: 1.0\n",
      "Gaussian Process: 0.9\n",
      "Ensemble Accuracy is 0.95\n"
     ]
    }
   ],
   "source": [
    "classify_predict(slo,class_vars,'Overpriced',Naive=False,SVC_inclusion=False)"
   ]
  },
  {
   "cell_type": "code",
   "execution_count": null,
   "metadata": {
    "collapsed": true
   },
   "outputs": [],
   "source": []
  }
 ],
 "metadata": {
  "kernelspec": {
   "display_name": "Python 3",
   "language": "python",
   "name": "python3"
  },
  "language_info": {
   "codemirror_mode": {
    "name": "ipython",
    "version": 3
   },
   "file_extension": ".py",
   "mimetype": "text/x-python",
   "name": "python",
   "nbconvert_exporter": "python",
   "pygments_lexer": "ipython3",
   "version": "3.5.2"
  }
 },
 "nbformat": 4,
 "nbformat_minor": 1
}
