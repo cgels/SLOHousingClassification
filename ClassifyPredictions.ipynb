{
 "cells": [
  {
   "cell_type": "code",
   "execution_count": 1,
   "metadata": {
    "collapsed": false
   },
   "outputs": [],
   "source": [
    "import pandas as pd\n",
    "import numpy as np\n",
    "import requests\n",
    "import sqlite3\n",
    "import datetime\n",
    "import re\n",
    "from sklearn.svm import SVC\n",
    "from sklearn.neighbors import KNeighborsClassifier\n",
    "from sklearn.model_selection import train_test_split\n",
    "from sklearn.tree import DecisionTreeClassifier\n",
    "from sklearn.naive_bayes import GaussianNB\n",
    "from sklearn.gaussian_process import GaussianProcessClassifier\n",
    "from sqlite_api import SLOHouseDatabase\n",
    "def classify_predict(df, X_vars, y_var,SVC_inclusion=True,kNN=True,Naive=True,Gaussian=True,DecTree=True):\n",
    "    if type(X_vars) is not list:\n",
    "        X = df[X_vars].reshape(-1,1)\n",
    "    else:\n",
    "        X = df[X_vars]\n",
    "    y = df[y_var]\n",
    "\n",
    "    X_train, X_test, y_train, y_test = train_test_split(X, y, test_size=0.33, random_state=26)\n",
    "    length=len(df)\n",
    "    \n",
    "    print('Classification Accuracies')\n",
    "    if SVC_inclusion:\n",
    "        svc1=SVC()\n",
    "        svc1.fit(X_train, y_train)\n",
    "        initial=[[predict] for predict in svc1.predict(X_test)]\n",
    "\n",
    "        print('Support Vector: ' + str(svc1.score(X_test, y_test)))\n",
    "    if kNN:\n",
    "        max_score = 0\n",
    "        for i in range(1, 6):\n",
    "            kNN = KNeighborsClassifier(n_neighbors=i)\n",
    "            kNN.fit(X_train, y_train)\n",
    "            cur_score = kNN.score(X_test, y_test)\n",
    "            if cur_score > max_score:\n",
    "                max_score = cur_score\n",
    "                maxN = i\n",
    "        kNN = KNeighborsClassifier(n_neighbors=maxN)\n",
    "        kNN.fit(X_train, y_train)\n",
    "        i=0\n",
    "        if SVC_inclusion==False:\n",
    "            initial=[[predict] for predict in kNN.predict(X_test)]\n",
    "        else:\n",
    "            for predict in kNN.predict(X_test):\n",
    "                initial[i].append(predict)\n",
    "                i+=1\n",
    "        print('kNN (N = '+str(maxN)+'): ' + str(max_score))\n",
    "    if DecTree:\n",
    "        dtc = DecisionTreeClassifier()\n",
    "        dtc.fit(X_train, y_train)\n",
    "        i=0\n",
    "        for predict in dtc.predict(X_test):\n",
    "            initial[i].append(predict)\n",
    "            i+=1\n",
    "        print('Decision Tree: ' + str(dtc.score(X_test, y_test)))\n",
    "    if Naive:\n",
    "        nbc = GaussianNB()\n",
    "        nbc.fit(X_train, y_train)\n",
    "        i=0\n",
    "        for predict in nbc.predict(X_test):\n",
    "            initial[i].append(predict)\n",
    "            i+=1\n",
    "        print('Naive Bayes: '+ str(nbc.score(X_test, y_test)))\n",
    "    if Gaussian:\n",
    "        gpc = GaussianProcessClassifier()\n",
    "        gpc.fit(X_train, y_train)\n",
    "        i=0\n",
    "        for predict in gpc.predict(X_test):\n",
    "            initial[i].append(predict)\n",
    "            i+=1\n",
    "        print('Gaussian Process: '+ str(gpc.score(X_test, y_test)))\n",
    "    prediction=[max(set(lst), key=lst.count) for lst in initial]\n",
    "    right=[prediction[i]==y_test.reset_index()[y_var][i] for i in range(len(y_test))]\n",
    "    print(\"Ensemble Accuracy is\",np.sum(right)/len(right))"
   ]
  },
  {
   "cell_type": "code",
   "execution_count": 2,
   "metadata": {
    "collapsed": false
   },
   "outputs": [
    {
     "data": {
      "text/html": [
       "<div>\n",
       "<table border=\"1\" class=\"dataframe\">\n",
       "  <thead>\n",
       "    <tr style=\"text-align: right;\">\n",
       "      <th></th>\n",
       "      <th>ID</th>\n",
       "      <th>MLS_ID</th>\n",
       "      <th>CITY</th>\n",
       "      <th>ADDRESS</th>\n",
       "      <th>BED</th>\n",
       "      <th>BATH</th>\n",
       "      <th>LIST_PRICE</th>\n",
       "      <th>SQ_FOOTAGE</th>\n",
       "      <th>PRICE_PER_SQFT</th>\n",
       "      <th>LIST_DATE</th>\n",
       "      <th>ID</th>\n",
       "      <th>SUBTYPE</th>\n",
       "      <th>AREA</th>\n",
       "      <th>YR_BUILT</th>\n",
       "      <th>LOT_SQFT</th>\n",
       "      <th>VIEW</th>\n",
       "      <th>POOL</th>\n",
       "      <th>ARB_COMISSION</th>\n",
       "    </tr>\n",
       "  </thead>\n",
       "  <tbody>\n",
       "    <tr>\n",
       "      <th>0</th>\n",
       "      <td>8538</td>\n",
       "      <td>1069605</td>\n",
       "      <td>Arroyo Grande</td>\n",
       "      <td>4410 Upper Lopez Canyon</td>\n",
       "      <td>1</td>\n",
       "      <td>1</td>\n",
       "      <td>345000.0</td>\n",
       "      <td>720.0</td>\n",
       "      <td>479.0</td>\n",
       "      <td>2016-10-13</td>\n",
       "      <td>1</td>\n",
       "      <td>SFR/D</td>\n",
       "      <td>ARRG</td>\n",
       "      <td>1985</td>\n",
       "      <td>1764842</td>\n",
       "      <td>1</td>\n",
       "      <td>0</td>\n",
       "      <td>3.5</td>\n",
       "    </tr>\n",
       "  </tbody>\n",
       "</table>\n",
       "</div>"
      ],
      "text/plain": [
       "     ID   MLS_ID           CITY                  ADDRESS  BED  BATH  \\\n",
       "0  8538  1069605  Arroyo Grande  4410 Upper Lopez Canyon    1     1   \n",
       "\n",
       "   LIST_PRICE  SQ_FOOTAGE  PRICE_PER_SQFT   LIST_DATE  ID SUBTYPE  AREA  \\\n",
       "0    345000.0       720.0           479.0  2016-10-13   1   SFR/D  ARRG   \n",
       "\n",
       "   YR_BUILT  LOT_SQFT  VIEW  POOL  ARB_COMISSION  \n",
       "0      1985   1764842     1     0            3.5  "
      ]
     },
     "execution_count": 2,
     "metadata": {},
     "output_type": "execute_result"
    }
   ],
   "source": [
    "dbquery = SLOHouseDatabase()\n",
    "df = dbquery.get_dataframe_from_query(\"SELECT * FROM HOUSES JOIN MLS_LISTINGS USING (MLS_ID)\")\n",
    "df.head(1)"
   ]
  },
  {
   "cell_type": "code",
   "execution_count": 3,
   "metadata": {
    "collapsed": true
   },
   "outputs": [],
   "source": [
    "def extract_subtype(subtype):\n",
    "    if (subtype.split('/')[1] == 'D'):\n",
    "        return 0\n",
    "    return 1\n",
    "def extract_decade(year):\n",
    "    if year == 0:\n",
    "        return 'N/A'\n",
    "    if year < 1960:\n",
    "        return '< 60s'\n",
    "    if year < 1970:\n",
    "        return '60s'\n",
    "    if year < 1980:\n",
    "        return '70s'\n",
    "    if year < 1990:\n",
    "        return '80s'\n",
    "    if year < 2000:\n",
    "        return '90s'\n",
    "    if year < 2010:\n",
    "        return '2000s'\n",
    "    return '2010s'"
   ]
  },
  {
   "cell_type": "markdown",
   "metadata": {},
   "source": [
    "##### Create column for 1hot encoding whether property is an apartment & expand City feature with dummy vars."
   ]
  },
  {
   "cell_type": "code",
   "execution_count": 4,
   "metadata": {
    "collapsed": false
   },
   "outputs": [],
   "source": [
    "df['Apartment'] = df['SUBTYPE'].apply(extract_subtype)\n",
    "df = pd.concat([df, pd.get_dummies(df.CITY)], axis=1)"
   ]
  },
  {
   "cell_type": "code",
   "execution_count": 5,
   "metadata": {
    "collapsed": true
   },
   "outputs": [],
   "source": [
    "### set of columns for use in classification\n",
    "class_vars = ['Arroyo Grande',\n",
    "             'Atascadero',\n",
    "             'Avila Beach',\n",
    "             'Morro Bay',\n",
    "             'Pismo Beach',\n",
    "             'San Luis Obispo',\n",
    "             'Templeton',\n",
    "             'BED',\n",
    "             'BATH',\n",
    "             'LIST_PRICE',\n",
    "             'SQ_FOOTAGE',\n",
    "             'PRICE_PER_SQFT',\n",
    "             'LOT_SQFT',\n",
    "             'ARB_COMISSION',\n",
    "             'POOL'\n",
    "             ]"
   ]
  },
  {
   "cell_type": "markdown",
   "metadata": {},
   "source": [
    "###### Split our data into train and test for use in classifier."
   ]
  },
  {
   "cell_type": "code",
   "execution_count": 6,
   "metadata": {
    "collapsed": true
   },
   "outputs": [],
   "source": [
    "X = df[class_vars]\n",
    "y = df['Apartment']\n",
    "\n",
    "X_train, X_test, y_train, y_test = train_test_split(X, y, test_size=0.33, random_state=26)"
   ]
  },
  {
   "cell_type": "markdown",
   "metadata": {},
   "source": [
    "### Experiment 1:\n",
    "###### Using entire dataframe, predict/classify whether property is an appartment based in the Lot size (SqFt.)"
   ]
  },
  {
   "cell_type": "code",
   "execution_count": 7,
   "metadata": {
    "collapsed": false
   },
   "outputs": [
    {
     "name": "stdout",
     "output_type": "stream",
     "text": [
      "Classification Accuracies\n",
      "Support Vector: 0.868421052632\n",
      "kNN (N = 2): 0.848684210526\n",
      "Decision Tree: 0.855263157895\n",
      "Naive Bayes: 0.328947368421\n",
      "Gaussian Process: 0.868421052632\n",
      "Ensemble Accuracy is 0.855263157895\n"
     ]
    }
   ],
   "source": [
    "classify_predict(df, 'LOT_SQFT', 'Apartment')"
   ]
  },
  {
   "cell_type": "markdown",
   "metadata": {
    "collapsed": false
   },
   "source": [
    "###### Repeat the question, exclude Naive Bayes classifier this time."
   ]
  },
  {
   "cell_type": "code",
   "execution_count": 8,
   "metadata": {
    "collapsed": false
   },
   "outputs": [
    {
     "name": "stdout",
     "output_type": "stream",
     "text": [
      "Classification Accuracies\n",
      "Support Vector: 0.868421052632\n",
      "kNN (N = 2): 0.848684210526\n",
      "Decision Tree: 0.855263157895\n",
      "Gaussian Process: 0.868421052632\n",
      "Ensemble Accuracy is 0.881578947368\n"
     ]
    }
   ],
   "source": [
    "classify_predict(df, 'LOT_SQFT', 'Apartment',Naive=False)"
   ]
  },
  {
   "cell_type": "markdown",
   "metadata": {},
   "source": [
    "#### Observations:\n",
    "###### Note the 3% gain in accuracy in our ensembled classifier when Naive Bayes is excluded."
   ]
  },
  {
   "cell_type": "markdown",
   "metadata": {},
   "source": [
    "### Experiment 2:\n",
    "###### Excluding records without a valid YR_BUILT feature, predict/classify the decade in which a property was build using the set of properties listed in class_vars."
   ]
  },
  {
   "cell_type": "code",
   "execution_count": 9,
   "metadata": {
    "collapsed": false
   },
   "outputs": [],
   "source": [
    "### exclude homes without a valid year built datapoint\n",
    "\n",
    "df['Decade'] = df.YR_BUILT.apply(extract_decade)\n",
    "mod_df = df[df['Decade'] != 'N/A']"
   ]
  },
  {
   "cell_type": "code",
   "execution_count": 10,
   "metadata": {
    "collapsed": false
   },
   "outputs": [
    {
     "name": "stdout",
     "output_type": "stream",
     "text": [
      "Classification Accuracies\n",
      "Support Vector: 0.731343283582\n",
      "kNN (N = 1): 0.65671641791\n",
      "Decision Tree: 0.671641791045\n",
      "Naive Bayes: 0.149253731343\n",
      "Gaussian Process: 0.716417910448\n",
      "Ensemble Accuracy is 0.65671641791\n"
     ]
    }
   ],
   "source": [
    "classify_predict(mod_df, class_vars, 'Decade')"
   ]
  },
  {
   "cell_type": "code",
   "execution_count": 11,
   "metadata": {
    "collapsed": false
   },
   "outputs": [
    {
     "name": "stdout",
     "output_type": "stream",
     "text": [
      "Classification Accuracies\n",
      "Support Vector: 0.731343283582\n",
      "Decision Tree: 0.671641791045\n",
      "Gaussian Process: 0.716417910448\n",
      "Ensemble Accuracy is 0.671641791045\n"
     ]
    }
   ],
   "source": [
    "### Naive & KNN performed poorly -- exclude them.\n",
    "classify_predict(mod_df, class_vars, 'Decade', Naive=False,kNN=False)"
   ]
  },
  {
   "cell_type": "markdown",
   "metadata": {},
   "source": [
    "#### Observations\n",
    "###### Note 2% gain in Accuracy in ensembled classifier when Naive Bayes & KNN excluded. "
   ]
  },
  {
   "cell_type": "markdown",
   "metadata": {},
   "source": [
    "### Experiment 3:\n",
    "###### Predict  the size of a home, without the use of features describing #Beds / #Bathrooms. (Home is 'BIG' if Number of BED + BATH > 4)"
   ]
  },
  {
   "cell_type": "code",
   "execution_count": 12,
   "metadata": {
    "collapsed": true
   },
   "outputs": [],
   "source": [
    "class_vars = ['Arroyo Grande',\n",
    "             'Atascadero',\n",
    "             'Avila Beach',\n",
    "             'Morro Bay',\n",
    "             'Pismo Beach',\n",
    "             'San Luis Obispo',\n",
    "             'Templeton',\n",
    "             'Apartment',\n",
    "             'LIST_PRICE',\n",
    "             'SQ_FOOTAGE',\n",
    "             'PRICE_PER_SQFT',\n",
    "             'LOT_SQFT',\n",
    "             'ARB_COMISSION',\n",
    "             'POOL'\n",
    "             ]\n"
   ]
  },
  {
   "cell_type": "code",
   "execution_count": 13,
   "metadata": {
    "collapsed": false
   },
   "outputs": [],
   "source": [
    "df['Rooms']=df['BED']+df['BATH']\n",
    "df['Big']=0\n",
    "df.loc[df['Rooms']>4,'Big']=1"
   ]
  },
  {
   "cell_type": "code",
   "execution_count": 14,
   "metadata": {
    "collapsed": false
   },
   "outputs": [
    {
     "name": "stdout",
     "output_type": "stream",
     "text": [
      "Classification Accuracies\n",
      "Support Vector: 0.973684210526\n",
      "kNN (N = 1): 0.973684210526\n",
      "Decision Tree: 0.960526315789\n",
      "Naive Bayes: 0.842105263158\n",
      "Gaussian Process: 0.75\n",
      "Ensemble Accuracy is 0.973684210526\n"
     ]
    }
   ],
   "source": [
    "slo=df.ix[df['CITY']==\"San Luis Obispo\"]\n",
    "\n",
    "classify_predict(df, class_vars, 'Big')"
   ]
  },
  {
   "cell_type": "markdown",
   "metadata": {},
   "source": [
    "###### Exclude Gaussian Process to try to improve ensemble."
   ]
  },
  {
   "cell_type": "code",
   "execution_count": 15,
   "metadata": {
    "collapsed": false
   },
   "outputs": [
    {
     "name": "stdout",
     "output_type": "stream",
     "text": [
      "Classification Accuracies\n",
      "Support Vector: 0.973684210526\n",
      "kNN (N = 1): 0.973684210526\n",
      "Decision Tree: 0.947368421053\n",
      "Naive Bayes: 0.842105263158\n",
      "Ensemble Accuracy is 0.973684210526\n"
     ]
    }
   ],
   "source": [
    "classify_predict(df,class_vars,'Big',Gaussian=False)"
   ]
  },
  {
   "cell_type": "markdown",
   "metadata": {},
   "source": [
    "##### Observations:\n",
    "###### 1.3% gain in ensembled classifier accuracy using City, ApartmentYN, List Price,  SqFt, PricePerSqFt, LotSqFt, BuyerComission, Pool excluding Gaussian Process"
   ]
  },
  {
   "cell_type": "markdown",
   "metadata": {},
   "source": [
    "### Experiment 3.1:\n",
    "###### Repeat the experiment for the subset of properties in SLO."
   ]
  },
  {
   "cell_type": "code",
   "execution_count": 16,
   "metadata": {
    "collapsed": false
   },
   "outputs": [],
   "source": [
    "### Exclude CITY features from our set of predictors.\n",
    "class_vars = ['Apartment',\n",
    "             'LIST_PRICE',\n",
    "             'SQ_FOOTAGE',\n",
    "             'PRICE_PER_SQFT',\n",
    "             'LOT_SQFT',\n",
    "             'ARB_COMISSION',\n",
    "             'POOL'\n",
    "             ]"
   ]
  },
  {
   "cell_type": "code",
   "execution_count": 17,
   "metadata": {
    "collapsed": false
   },
   "outputs": [
    {
     "name": "stdout",
     "output_type": "stream",
     "text": [
      "Classification Accuracies\n",
      "Support Vector: 0.9\n",
      "kNN (N = 2): 0.95\n",
      "Decision Tree: 0.9\n",
      "Naive Bayes: 0.75\n",
      "Gaussian Process: 0.8\n",
      "Ensemble Accuracy is 1.0\n"
     ]
    }
   ],
   "source": [
    "classify_predict(slo,class_vars,'Big')"
   ]
  },
  {
   "cell_type": "markdown",
   "metadata": {},
   "source": [
    "##### Observations:\n",
    "###### 100% accuracy in classifying 'Big' homes in SLO using ensembled classifier."
   ]
  },
  {
   "cell_type": "markdown",
   "metadata": {},
   "source": [
    "### Experiment 4:\n",
    "###### Predict whether a home is Expensive, using the set of predictors below.  Expensive will be defined as any home such that LIST_PRICE > 2 Standard Deviations from the mean."
   ]
  },
  {
   "cell_type": "code",
   "execution_count": 18,
   "metadata": {
    "collapsed": false
   },
   "outputs": [],
   "source": [
    "class_vars = ['Arroyo Grande',\n",
    "             'Atascadero',\n",
    "             'Avila Beach',\n",
    "             'Morro Bay',\n",
    "             'Pismo Beach',\n",
    "             'San Luis Obispo',\n",
    "             'Templeton',\n",
    "             'BED',\n",
    "             'BATH',\n",
    "             'Apartment',\n",
    "             'SQ_FOOTAGE',\n",
    "             'PRICE_PER_SQFT',\n",
    "             'LOT_SQFT',\n",
    "             'ARB_COMISSION',\n",
    "             'POOL'\n",
    "             ]\n",
    "df['Expensive']=0\n",
    "## 1hot encode 'Expensive homes'\n",
    "df.loc[df['LIST_PRICE']>(df['LIST_PRICE'].mean() + 2*df['LIST_PRICE'].std()),'Expensive']=1"
   ]
  },
  {
   "cell_type": "code",
   "execution_count": 19,
   "metadata": {
    "collapsed": false
   },
   "outputs": [
    {
     "name": "stdout",
     "output_type": "stream",
     "text": [
      "Classification Accuracies\n",
      "Support Vector: 0.973684210526\n",
      "kNN (N = 1): 0.960526315789\n",
      "Decision Tree: 1.0\n",
      "Gaussian Process: 0.973684210526\n",
      "Ensemble Accuracy is 0.973684210526\n"
     ]
    }
   ],
   "source": [
    "classify_predict(df,class_vars,'Expensive',Naive=False)"
   ]
  },
  {
   "cell_type": "markdown",
   "metadata": {
    "collapsed": true
   },
   "source": [
    "### Experiment 4.1:\n",
    "###### Repeat experiment 4 for the subset of properties in SLO."
   ]
  },
  {
   "cell_type": "code",
   "execution_count": 20,
   "metadata": {
    "collapsed": false
   },
   "outputs": [
    {
     "name": "stdout",
     "output_type": "stream",
     "text": [
      "Classification Accuracies\n",
      "Support Vector: 1.0\n",
      "kNN (N = 1): 1.0\n",
      "Decision Tree: 1.0\n",
      "Naive Bayes: 0.975\n",
      "Gaussian Process: 1.0\n",
      "Ensemble Accuracy is 1.0\n"
     ]
    }
   ],
   "source": [
    "slo=df.ix[df['CITY']==\"San Luis Obispo\"]\n",
    "class_vars = ['BED',\n",
    "             'BATH',\n",
    "             'Apartment',\n",
    "             'SQ_FOOTAGE',\n",
    "             'PRICE_PER_SQFT',\n",
    "             'LOT_SQFT',\n",
    "             'ARB_COMISSION',\n",
    "             'POOL'\n",
    "             ]\n",
    "\n",
    "classify_predict(slo,class_vars,'Expensive')"
   ]
  },
  {
   "cell_type": "markdown",
   "metadata": {
    "collapsed": false
   },
   "source": [
    "##### Observations:\n",
    "###### 97.4% accuracy for predicting whether a home in SLO County is expensive using ensembled classifier.\n",
    "###### 100% accuracy using ensembled classifier for prediction Expensive homes in SLO"
   ]
  },
  {
   "cell_type": "markdown",
   "metadata": {},
   "source": [
    "### Experiment 5:\n",
    "###### Predict whether a property is Overpriced in SLO County. Overpriced defined as 2 standard deviations from mean price per square foot."
   ]
  },
  {
   "cell_type": "code",
   "execution_count": 21,
   "metadata": {
    "collapsed": true
   },
   "outputs": [],
   "source": [
    "class_vars = ['Arroyo Grande',\n",
    "             'Atascadero',\n",
    "             'Avila Beach',\n",
    "             'Morro Bay',\n",
    "             'Pismo Beach',\n",
    "             'San Luis Obispo',\n",
    "             'Templeton',\n",
    "             'Apartment',\n",
    "             'LIST_PRICE',\n",
    "             'SQ_FOOTAGE',\n",
    "             'LOT_SQFT',\n",
    "             'ARB_COMISSION',\n",
    "             'BED',\n",
    "             'BATH',\n",
    "             'POOL'\n",
    "             ]\n",
    "county_class_vars = class_vars.copy()"
   ]
  },
  {
   "cell_type": "code",
   "execution_count": 22,
   "metadata": {
    "collapsed": false
   },
   "outputs": [],
   "source": [
    "df['Overpriced']=0\n",
    "df.loc[df['PRICE_PER_SQFT'] > (df['PRICE_PER_SQFT'].mean() + 2 * df['PRICE_PER_SQFT'].std()),'Overpriced']=1"
   ]
  },
  {
   "cell_type": "code",
   "execution_count": 23,
   "metadata": {
    "collapsed": false
   },
   "outputs": [
    {
     "name": "stdout",
     "output_type": "stream",
     "text": [
      "Classification Accuracies\n",
      "Support Vector: 0.960526315789\n",
      "kNN (N = 1): 0.960526315789\n",
      "Decision Tree: 0.986842105263\n",
      "Naive Bayes: 0.947368421053\n",
      "Gaussian Process: 0.960526315789\n",
      "Ensemble Accuracy is 0.960526315789\n"
     ]
    }
   ],
   "source": [
    "class_vars.remove('LIST_PRICE')\n",
    "classify_predict(df,class_vars,'Overpriced')"
   ]
  },
  {
   "cell_type": "code",
   "execution_count": 25,
   "metadata": {
    "collapsed": false
   },
   "outputs": [
    {
     "name": "stdout",
     "output_type": "stream",
     "text": [
      "Classification Accuracies\n",
      "kNN (N = 1): 0.960526315789\n",
      "Decision Tree: 0.986842105263\n",
      "Gaussian Process: 0.960526315789\n",
      "Ensemble Accuracy is 0.960526315789\n"
     ]
    }
   ],
   "source": [
    "classify_predict(df,class_vars,'Overpriced',Naive=False,SVC_inclusion=False)"
   ]
  },
  {
   "cell_type": "markdown",
   "metadata": {},
   "source": [
    "### Experiment 5.1:\n",
    "###### Repeat experiment for properties not in SLO city."
   ]
  },
  {
   "cell_type": "code",
   "execution_count": 26,
   "metadata": {
    "collapsed": true
   },
   "outputs": [],
   "source": [
    "notslo=df.ix[df['CITY']!=\"San Luis Obispo\"]"
   ]
  },
  {
   "cell_type": "code",
   "execution_count": 27,
   "metadata": {
    "collapsed": false
   },
   "outputs": [
    {
     "name": "stdout",
     "output_type": "stream",
     "text": [
      "Classification Accuracies\n",
      "Support Vector: 0.982142857143\n",
      "kNN (N = 1): 0.982142857143\n",
      "Decision Tree: 0.982142857143\n",
      "Naive Bayes: 0.482142857143\n",
      "Gaussian Process: 0.982142857143\n",
      "Ensemble Accuracy is 0.982142857143\n"
     ]
    }
   ],
   "source": [
    "classify_predict(notslo,class_vars,'Overpriced')"
   ]
  },
  {
   "cell_type": "markdown",
   "metadata": {},
   "source": [
    "### Experiment 5.2:\n",
    "###### Repeat experiment for properties in SLO city. "
   ]
  },
  {
   "cell_type": "code",
   "execution_count": 28,
   "metadata": {
    "collapsed": false
   },
   "outputs": [],
   "source": [
    "slo=df.ix[df['CITY']==\"San Luis Obispo\"]"
   ]
  },
  {
   "cell_type": "code",
   "execution_count": 29,
   "metadata": {
    "collapsed": false
   },
   "outputs": [
    {
     "name": "stdout",
     "output_type": "stream",
     "text": [
      "Classification Accuracies\n",
      "Support Vector: 1.0\n",
      "kNN (N = 1): 1.0\n",
      "Decision Tree: 1.0\n",
      "Naive Bayes: 1.0\n",
      "Gaussian Process: 1.0\n",
      "Ensemble Accuracy is 1.0\n"
     ]
    }
   ],
   "source": [
    "classify_predict(slo,class_vars,'Overpriced')"
   ]
  },
  {
   "cell_type": "markdown",
   "metadata": {},
   "source": [
    "### Experiment 5.3\n",
    "##### Lets change our definition of overpriced. Overpriced  if Price/SqFt > Mean(Price/SqFt)"
   ]
  },
  {
   "cell_type": "code",
   "execution_count": 30,
   "metadata": {
    "collapsed": false
   },
   "outputs": [],
   "source": [
    "df2 = df.copy()\n",
    "df2['Overpriced']=0\n",
    "df2.loc[df2['PRICE_PER_SQFT'] > df2['PRICE_PER_SQFT'].mean(),'Overpriced']=1"
   ]
  },
  {
   "cell_type": "markdown",
   "metadata": {},
   "source": [
    "### Experiment 5.3.1: All properties in SLO County"
   ]
  },
  {
   "cell_type": "code",
   "execution_count": 53,
   "metadata": {
    "collapsed": false
   },
   "outputs": [
    {
     "name": "stdout",
     "output_type": "stream",
     "text": [
      "Classification Accuracies\n",
      "Support Vector: 0.848684210526\n",
      "kNN (N = 1): 0.802631578947\n",
      "Decision Tree: 0.934210526316\n",
      "Naive Bayes: 0.598684210526\n",
      "Gaussian Process: 0.855263157895\n",
      "Ensemble Accuracy is 0.868421052632\n"
     ]
    }
   ],
   "source": [
    "classify_predict(df2,class_vars,'Overpriced')"
   ]
  },
  {
   "cell_type": "code",
   "execution_count": 57,
   "metadata": {
    "collapsed": false
   },
   "outputs": [
    {
     "name": "stdout",
     "output_type": "stream",
     "text": [
      "Classification Accuracies\n",
      "Support Vector: 0.848684210526\n",
      "Decision Tree: 0.934210526316\n",
      "Gaussian Process: 0.855263157895\n",
      "Ensemble Accuracy is 0.855263157895\n"
     ]
    }
   ],
   "source": [
    "classify_predict(df2,class_vars,'Overpriced',Naive=False,kNN=False)"
   ]
  },
  {
   "cell_type": "markdown",
   "metadata": {},
   "source": [
    "### Experiment 5.3.2: Properties not in SLO city."
   ]
  },
  {
   "cell_type": "code",
   "execution_count": 33,
   "metadata": {
    "collapsed": false
   },
   "outputs": [
    {
     "name": "stdout",
     "output_type": "stream",
     "text": [
      "Classification Accuracies\n",
      "Support Vector: 0.910714285714\n",
      "kNN (N = 1): 0.910714285714\n",
      "Decision Tree: 0.875\n",
      "Naive Bayes: 0.464285714286\n",
      "Gaussian Process: 0.928571428571\n",
      "Ensemble Accuracy is 0.875\n"
     ]
    }
   ],
   "source": [
    "notslo2=df2.ix[df2['CITY']!=\"San Luis Obispo\"]\n",
    "classify_predict(notslo2,class_vars,'Overpriced')"
   ]
  },
  {
   "cell_type": "code",
   "execution_count": 58,
   "metadata": {
    "collapsed": false
   },
   "outputs": [
    {
     "name": "stdout",
     "output_type": "stream",
     "text": [
      "Classification Accuracies\n",
      "Support Vector: 0.910714285714\n",
      "kNN (N = 1): 0.910714285714\n",
      "Gaussian Process: 0.928571428571\n",
      "Ensemble Accuracy is 0.928571428571\n"
     ]
    }
   ],
   "source": [
    "classify_predict(notslo2, class_vars, 'Overpriced', Naive=False, DecTree=False)"
   ]
  },
  {
   "cell_type": "markdown",
   "metadata": {},
   "source": [
    "### Experiment 5.3.3: Properties in SLO city."
   ]
  },
  {
   "cell_type": "code",
   "execution_count": 34,
   "metadata": {
    "collapsed": false
   },
   "outputs": [
    {
     "name": "stdout",
     "output_type": "stream",
     "text": [
      "Classification Accuracies\n",
      "Support Vector: 0.9\n",
      "kNN (N = 1): 0.95\n",
      "Decision Tree: 0.9\n",
      "Naive Bayes: 0.6\n",
      "Gaussian Process: 0.9\n",
      "Ensemble Accuracy is 0.9\n"
     ]
    }
   ],
   "source": [
    "slo2=df2.ix[df2['CITY']==\"San Luis Obispo\"]\n",
    "classify_predict(slo2,class_vars,'Overpriced')"
   ]
  },
  {
   "cell_type": "markdown",
   "metadata": {
    "collapsed": true
   },
   "source": [
    "#### Observations:\n",
    "###### Note difference in accuracies with a change in definition of overpriced."
   ]
  },
  {
   "cell_type": "markdown",
   "metadata": {},
   "source": [
    "### Experiment 6:\n",
    "###### Predict whether a home has a View in SLO county.\n"
   ]
  },
  {
   "cell_type": "code",
   "execution_count": 35,
   "metadata": {
    "collapsed": false
   },
   "outputs": [
    {
     "name": "stdout",
     "output_type": "stream",
     "text": [
      "Classification Accuracies\n",
      "Support Vector: 1.0\n",
      "kNN (N = 1): 0.973684210526\n",
      "Decision Tree: 0.973684210526\n",
      "Naive Bayes: 0.644736842105\n",
      "Gaussian Process: 0.723684210526\n",
      "Ensemble Accuracy is 0.973684210526\n"
     ]
    }
   ],
   "source": [
    "classify_predict(df, county_class_vars, 'VIEW')"
   ]
  },
  {
   "cell_type": "markdown",
   "metadata": {},
   "source": [
    "### 6.1\n",
    "###### Predict whether a home in SLO city has a View"
   ]
  },
  {
   "cell_type": "code",
   "execution_count": 36,
   "metadata": {
    "collapsed": false
   },
   "outputs": [
    {
     "name": "stdout",
     "output_type": "stream",
     "text": [
      "Classification Accuracies\n",
      "Support Vector: 1.0\n",
      "kNN (N = 1): 1.0\n",
      "Decision Tree: 1.0\n",
      "Naive Bayes: 0.45\n",
      "Gaussian Process: 0.75\n",
      "Ensemble Accuracy is 1.0\n"
     ]
    }
   ],
   "source": [
    "slo=df.ix[df['CITY']==\"San Luis Obispo\"]\n",
    "classify_predict(slo, class_vars, 'VIEW')"
   ]
  },
  {
   "cell_type": "markdown",
   "metadata": {},
   "source": [
    "### Experiment 6.2\n",
    "###### Predict whether a home not in SLO city has a view. "
   ]
  },
  {
   "cell_type": "code",
   "execution_count": 37,
   "metadata": {
    "collapsed": false
   },
   "outputs": [
    {
     "name": "stdout",
     "output_type": "stream",
     "text": [
      "Classification Accuracies\n",
      "Support Vector: 1.0\n",
      "kNN (N = 1): 0.982142857143\n",
      "Decision Tree: 0.982142857143\n",
      "Naive Bayes: 0.589285714286\n",
      "Gaussian Process: 0.75\n",
      "Ensemble Accuracy is 0.964285714286\n"
     ]
    }
   ],
   "source": [
    "notslo=df.ix[df['CITY']!=\"San Luis Obispo\"]\n",
    "classify_predict(notslo, class_vars, 'VIEW')"
   ]
  },
  {
   "cell_type": "markdown",
   "metadata": {},
   "source": [
    "### Observations:\n",
    "##### Support Vector\n",
    "SVM seemed to be one of the most consistent classifiers of the group (close to kNN and Decision Tree). In most situations it performed as good or better than the best classifier. When it was outperformed, it wasn't outperformed by much.\n",
    "\n",
    "##### k-Nearest Neighbors\n",
    "kNN was amongst the group that performed the best. Like SVM and Decision Trees, it was at or near the top for most of the questions we asked. We checked every k from 1 to 6, but it seemed like only k=1 or k=2 were the best performers. For this particular dataset we can say a lower k seems to perform better.\n",
    "\n",
    "##### Decision Tree\n",
    "In terms of accuracy, it looks like Decision Trees might be the single strongest predictor. It was close to SVM and kNN, but edged out those algorithms more often than it was edged out. This assumes an unlimited depth of decision tree though. In many cases, a decision tree is desired because it is intuitive and simple to understand. In all of the cases we tried, limiting the depth caused the accuracy to dip well below the SVM and kNN classifiers, so we would only recommend decision trees if you didn't need them to be simple and just needed them to be strong predictors.\n",
    "\n",
    "##### Naive Bayes\n",
    "The weakest performer by far. In nearly every case, Naive Bayes had the lowest accuracy by a significant margin. Only occasionally did it match the other classifiers, and only one time did it beat another (beat Gaussian Process when classifying if a home was 'big' or not). Some research shows that Naive Bayes has a strong assumption of independence between the explanatory variables. Obviously our dataset has many variables that are strongly correlated with each other, so we determined that was the reason for Naive Bayes not being a great choice for this dataset.\n",
    "\n",
    "##### Gaussian Process\n",
    "The Guassian Process classifier seemed inconsistent and unreliable for the questions we asked from this dataset. Sometimes it was one of the best predictors, but in some other cases it was well below the top 3 classifiers. There also didn't seem to be a pattern of when it worked well and when it didn't."
   ]
  }
 ],
 "metadata": {
  "kernelspec": {
   "display_name": "Python 3",
   "language": "python",
   "name": "python3"
  },
  "language_info": {
   "codemirror_mode": {
    "name": "ipython",
    "version": 3
   },
   "file_extension": ".py",
   "mimetype": "text/x-python",
   "name": "python",
   "nbconvert_exporter": "python",
   "pygments_lexer": "ipython3",
   "version": "3.5.2"
  }
 },
 "nbformat": 4,
 "nbformat_minor": 1
}
