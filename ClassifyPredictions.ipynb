{
 "cells": [
  {
   "cell_type": "code",
   "execution_count": 1,
   "metadata": {
    "collapsed": true
   },
   "outputs": [],
   "source": [
    "import pandas as pd\n",
    "import numpy as np\n",
    "import requests\n",
    "import sqlite3\n",
    "import datetime\n",
    "import re\n",
    "from sklearn.svm import SVC\n",
    "from sklearn.neighbors import KNeighborsClassifier\n",
    "from sklearn.model_selection import train_test_split\n",
    "from sklearn.tree import DecisionTreeClassifier\n",
    "from sklearn.naive_bayes import GaussianNB\n",
    "from sklearn.gaussian_process import GaussianProcessClassifier\n",
    "from sqlite_api import SLOHouseDatabase\n",
    "def classify_predict(df, X_vars, y_var,colName,SVC=True,kNN=True,Naive=True,Gaussian=True,DecTree=True):\n",
    "    if type(X_vars) is not list:\n",
    "        X = df[X_vars].reshape(-1,1)\n",
    "    else:\n",
    "        X = df[X_vars]\n",
    "    y = df[y_var]\n",
    "\n",
    "    X_train, X_test, y_train, y_test = train_test_split(X, y, test_size=0.33, random_state=26)\n",
    "    length=len(df)\n",
    "    \n",
    "    print('Classification Accuracies')\n",
    "    svc = SVC()\n",
    "    svc.fit(X_train, y_train)\n",
    "    initial=[[predict] for predict in svc.predict(X_test).iteritems()]\n",
    "    \n",
    "    print('Support Vector: ' + str(svc.score(X_test, y_test)))\n",
    "    \n",
    "    max_score = 0\n",
    "    for i in range(1, 6):\n",
    "        kNN = KNeighborsClassifier(n_neighbors=i)\n",
    "        kNN.fit(X_train, y_train)\n",
    "        cur_score = kNN.score(X_test, y_test)\n",
    "        if cur_score > max_score:\n",
    "            max_score = cur_score\n",
    "            maxN = i\n",
    "    kNN = KNeighborsClassifier(n_neighbors=maxN)\n",
    "    kNN.fit(X_train, y_train)\n",
    "    i=0\n",
    "    for predict in kNN.fit(x_train).iteritems():\n",
    "        initial[i].append(predict)\n",
    "        i+=1\n",
    "    print('kNN (N = '+str(maxN)+'): ' + str(max_score))\n",
    "    \n",
    "    dtc = DecisionTreeClassifier()\n",
    "    dtc.fit(X_train, y_train)\n",
    "    i=0\n",
    "    for predict in dtc.fit(x_train).iteritems():\n",
    "        initial[i].append(predict)\n",
    "        i+=1\n",
    "    print('Decision Tree: ' + str(dtc.score(X_test, y_test)))\n",
    "    \n",
    "    nbc = GaussianNB()\n",
    "    nbc.fit(X_train, y_train)\n",
    "    i=0\n",
    "    for predict in nbc.fit(x_train).iteritems():\n",
    "        initial[i].append(predict)\n",
    "        i+=1\n",
    "    print('Naive Bayes: '+ str(nbc.score(X_test, y_test)))\n",
    "    \n",
    "    gpc = GaussianProcessClassifier()\n",
    "    gpc.fit(X_train, y_train)\n",
    "    i=0\n",
    "    for predict in gpc.fit(x_train).iteritems():\n",
    "        initial[i].append(predict)\n",
    "        i+=1\n",
    "    print('Gaussian Process: '+ str(gpc.score(X_test, y_test)))\n",
    "    prediction=[max(set(lst), key=lst.count) for lst in initial]\n",
    "    "
   ]
  },
  {
   "cell_type": "code",
   "execution_count": null,
   "metadata": {
    "collapsed": true
   },
   "outputs": [],
   "source": []
  }
 ],
 "metadata": {
  "kernelspec": {
   "display_name": "Python 3",
   "language": "python",
   "name": "python3"
  },
  "language_info": {
   "codemirror_mode": {
    "name": "ipython",
    "version": 3
   },
   "file_extension": ".py",
   "mimetype": "text/x-python",
   "name": "python",
   "nbconvert_exporter": "python",
   "pygments_lexer": "ipython3",
   "version": "3.5.2"
  }
 },
 "nbformat": 4,
 "nbformat_minor": 1
}
