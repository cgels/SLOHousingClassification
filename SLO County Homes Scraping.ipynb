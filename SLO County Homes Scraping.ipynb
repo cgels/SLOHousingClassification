{
 "cells": [
  {
   "cell_type": "code",
   "execution_count": 1,
   "metadata": {
    "collapsed": false
   },
   "outputs": [],
   "source": [
    "from bs4 import BeautifulSoup\n",
    "import pandas as pd \n",
    "import requests\n",
    "import sqlite3\n",
    "import datetime\n",
    "df = pd.DataFrame({\"MLS\": [],\"Street\": [], \"City\":[],\"List Price\":[],\"Bedrooms\":[],\"Bathrooms\":[],\"Square Footage\":[],\"Date\":[]})\n"
   ]
  },
  {
   "cell_type": "code",
   "execution_count": 2,
   "metadata": {
    "collapsed": false
   },
   "outputs": [],
   "source": [
    "def scraping(dataframe):\n",
    "    page=requests.get(\"http://www.slocountyhomes.com/newlistex.php\")\n",
    "    data=BeautifulSoup(page.text,\"html.parser\")\n",
    "    i=0\n",
    "    date=\"\"\n",
    "    date=\"NA\"\n",
    "    MLS=\"\"\n",
    "    Street=\"\"\n",
    "    City=\"\"\n",
    "    List=\"\"\n",
    "    Bed=\"\"\n",
    "    Bath=\"\"\n",
    "    Sq=0\n",
    "    Date=\"\"\n",
    "    for table in data.find_all('td'):\n",
    "        if len(table.text.split(\"November\")) != 1:\n",
    "            date = table.text\n",
    "        elif table.text.strip() == \"\":\n",
    "            i = i\n",
    "        else:\n",
    "            if i == 0:\n",
    "                MLS = table.text.strip()\n",
    "                i += 1\n",
    "            elif i == 1:\n",
    "                Street = sqlize_string(table.text.strip())\n",
    "                i += 1\n",
    "            elif i == 2:\n",
    "                City = sqlize_string(table.text.strip())\n",
    "                i += 1\n",
    "            elif i == 3:\n",
    "                List = int(table.text.strip()[1:].replace(\",\",\"\"))\n",
    "                i += 1\n",
    "            elif i == 4:\n",
    "                Bed = int(table.text.strip())\n",
    "                i += 1\n",
    "            elif i == 5:\n",
    "                Bath = int(table.text.strip())\n",
    "                i += 1\n",
    "            elif i == 6:\n",
    "                Sq = int(table.text.strip())\n",
    "                i = 0\n",
    "                dataframe.loc[len(dataframe)]=[Bath,Bed,City,date,List,MLS,Sq,Street]\n",
    "                \n",
    "    dataframe=dataframe.drop_duplicates()\n",
    "    return dataframe"
   ]
  },
  {
   "cell_type": "code",
   "execution_count": 3,
   "metadata": {
    "collapsed": false
   },
   "outputs": [],
   "source": [
    "def sqlize_string(string):\n",
    "    return \"'\" + string + \"'\""
   ]
  },
  {
   "cell_type": "markdown",
   "metadata": {},
   "source": [
    "Lot size most important in prediction \n"
   ]
  },
  {
   "cell_type": "code",
   "execution_count": 4,
   "metadata": {
    "collapsed": false
   },
   "outputs": [],
   "source": [
    "#for td in data.find_all('td'):\n",
    "#    print(td.text.lstrip().rstrip())"
   ]
  },
  {
   "cell_type": "code",
   "execution_count": 5,
   "metadata": {
    "collapsed": false
   },
   "outputs": [],
   "source": [
    "df=scraping(df)"
   ]
  },
  {
   "cell_type": "code",
   "execution_count": 6,
   "metadata": {
    "collapsed": false
   },
   "outputs": [
    {
     "data": {
      "text/html": [
       "<div>\n",
       "<table border=\"1\" class=\"dataframe\">\n",
       "  <thead>\n",
       "    <tr style=\"text-align: right;\">\n",
       "      <th></th>\n",
       "      <th>Bathrooms</th>\n",
       "      <th>Bedrooms</th>\n",
       "      <th>City</th>\n",
       "      <th>Date</th>\n",
       "      <th>List Price</th>\n",
       "      <th>MLS</th>\n",
       "      <th>Square Footage</th>\n",
       "      <th>Street</th>\n",
       "    </tr>\n",
       "  </thead>\n",
       "  <tbody>\n",
       "    <tr>\n",
       "      <th>0</th>\n",
       "      <td>3.0</td>\n",
       "      <td>4.0</td>\n",
       "      <td>'Arroyo Grande'</td>\n",
       "      <td>November 17</td>\n",
       "      <td>849000.0</td>\n",
       "      <td>1073005</td>\n",
       "      <td>3076.0</td>\n",
       "      <td>'1351 Newport'</td>\n",
       "    </tr>\n",
       "    <tr>\n",
       "      <th>1</th>\n",
       "      <td>2.0</td>\n",
       "      <td>3.0</td>\n",
       "      <td>'Atascadero'</td>\n",
       "      <td>November 17</td>\n",
       "      <td>399000.0</td>\n",
       "      <td>1072924</td>\n",
       "      <td>1400.0</td>\n",
       "      <td>'6200 Buena'</td>\n",
       "    </tr>\n",
       "  </tbody>\n",
       "</table>\n",
       "</div>"
      ],
      "text/plain": [
       "   Bathrooms  Bedrooms             City         Date  List Price      MLS  \\\n",
       "0        3.0       4.0  'Arroyo Grande'  November 17    849000.0  1073005   \n",
       "1        2.0       3.0     'Atascadero'  November 17    399000.0  1072924   \n",
       "\n",
       "   Square Footage          Street  \n",
       "0          3076.0  '1351 Newport'  \n",
       "1          1400.0    '6200 Buena'  "
      ]
     },
     "execution_count": 6,
     "metadata": {},
     "output_type": "execute_result"
    }
   ],
   "source": [
    "df.head(2)"
   ]
  },
  {
   "cell_type": "code",
   "execution_count": 7,
   "metadata": {
    "collapsed": false
   },
   "outputs": [
    {
     "data": {
      "text/plain": [
       "{'April': 4,\n",
       " 'August': 8,\n",
       " 'December': 12,\n",
       " 'February': 2,\n",
       " 'January': 1,\n",
       " 'July': 7,\n",
       " 'June': 6,\n",
       " 'March': 3,\n",
       " 'May': 5,\n",
       " 'November': 11,\n",
       " 'October': 10,\n",
       " 'September': 9}"
      ]
     },
     "execution_count": 7,
     "metadata": {},
     "output_type": "execute_result"
    }
   ],
   "source": [
    "months = [\"January\", \"February\", \"March\", \"April\", \"May\", \"June\", \"July\", \"August\", \"September\", \"October\", \"November\", \"December\"]\n",
    "month_map = {key:int(val) for key,val in zip(months, range(1,13))}\n",
    "month_map"
   ]
  },
  {
   "cell_type": "code",
   "execution_count": 8,
   "metadata": {
    "collapsed": false
   },
   "outputs": [
    {
     "name": "stdout",
     "output_type": "stream",
     "text": [
      "Opened database successfully\n",
      "Records created successfully\n"
     ]
    }
   ],
   "source": [
    "conn = sqlite3.connect('slo_housing.db')\n",
    "print(\"Opened database successfully\");\n",
    "stmt = \"INSERT INTO HOUSES (MLS_ID,BED,BATH,CITY, ADDRESS, LIST_PRICE, SQ_FOOTAGE, PRICE_PER_SQFT, LIST_DATE) \\\n",
    "      VALUES ({}, {}, {}, {}, {}, {}, {}, {}, {})\"\n",
    "for idx, row in df.iterrows():\n",
    "\n",
    "    conn.execute(stmt.format(row['MLS'], row['Bedrooms'], row['Bathrooms'], row['City'],\n",
    "                             row['Street'], row['List Price'], row['Square Footage'],\n",
    "                             int(row['List Price']) / int(row['Square Footage']), \n",
    "                             datetime.date(2016, month_map[row['Date'].split()[0]], int(row['Date'].split()[1]))\n",
    "                            ));\n",
    "    \n",
    "    \n",
    "conn.commit()\n",
    "print(\"Records created successfully\");\n",
    "conn.close()"
   ]
  },
  {
   "cell_type": "code",
   "execution_count": 22,
   "metadata": {
    "collapsed": false
   },
   "outputs": [],
   "source": [
    "conn = sqlite3.connect('slo_housing.db')\n",
    "check = conn.execute(\"SELECT * FROM HOUSES\")"
   ]
  },
  {
   "cell_type": "code",
   "execution_count": 56,
   "metadata": {
    "collapsed": false
   },
   "outputs": [],
   "source": [
    "df = pd.DataFrame(check.fetchall())\n",
    "\n",
    "def get_query(query):\n",
    "    var_names = ['MLS Key','Num Bedrooms','Num Bathrooms', 'City', 'Address', 'Price',\n",
    "                'Sqr Footage', 'Unknown1', 'Unknown2', 'Unknown3', 'Unknown4', 'Year Sold']\n",
    "    conn = sqlite3.connect('slo_housing.db')\n",
    "    df = pd.DataFrame(conn.execute(query).fetchall())\n",
    "    del df[0]\n",
    "    df.columns = var_names\n",
    "    return df\n",
    "    "
   ]
  },
  {
   "cell_type": "code",
   "execution_count": 57,
   "metadata": {
    "collapsed": false
   },
   "outputs": [
    {
     "data": {
      "text/html": [
       "<div>\n",
       "<table border=\"1\" class=\"dataframe\">\n",
       "  <thead>\n",
       "    <tr style=\"text-align: right;\">\n",
       "      <th></th>\n",
       "      <th>MLS Key</th>\n",
       "      <th>Num Bedrooms</th>\n",
       "      <th>Num Bathrooms</th>\n",
       "      <th>City</th>\n",
       "      <th>Address</th>\n",
       "      <th>Price</th>\n",
       "      <th>Sqr Footage</th>\n",
       "      <th>Unknown1</th>\n",
       "      <th>Unknown2</th>\n",
       "      <th>Unknown3</th>\n",
       "      <th>Unknown4</th>\n",
       "      <th>Year Sold</th>\n",
       "    </tr>\n",
       "  </thead>\n",
       "  <tbody>\n",
       "    <tr>\n",
       "      <th>0</th>\n",
       "      <td>1073005</td>\n",
       "      <td>4</td>\n",
       "      <td>3</td>\n",
       "      <td>Arroyo Grande</td>\n",
       "      <td>1351 Newport</td>\n",
       "      <td>849000.0</td>\n",
       "      <td>3076.0</td>\n",
       "      <td>276.007802</td>\n",
       "      <td>0</td>\n",
       "      <td>None</td>\n",
       "      <td>None</td>\n",
       "      <td>1988</td>\n",
       "    </tr>\n",
       "    <tr>\n",
       "      <th>1</th>\n",
       "      <td>1072924</td>\n",
       "      <td>3</td>\n",
       "      <td>2</td>\n",
       "      <td>Atascadero</td>\n",
       "      <td>6200 Buena</td>\n",
       "      <td>399000.0</td>\n",
       "      <td>1400.0</td>\n",
       "      <td>285.000000</td>\n",
       "      <td>0</td>\n",
       "      <td>None</td>\n",
       "      <td>None</td>\n",
       "      <td>1988</td>\n",
       "    </tr>\n",
       "    <tr>\n",
       "      <th>2</th>\n",
       "      <td>1073010</td>\n",
       "      <td>3</td>\n",
       "      <td>3</td>\n",
       "      <td>Grover Beach</td>\n",
       "      <td>1239 Aberdeen</td>\n",
       "      <td>529900.0</td>\n",
       "      <td>1894.0</td>\n",
       "      <td>279.778247</td>\n",
       "      <td>0</td>\n",
       "      <td>None</td>\n",
       "      <td>None</td>\n",
       "      <td>1988</td>\n",
       "    </tr>\n",
       "    <tr>\n",
       "      <th>3</th>\n",
       "      <td>1072942</td>\n",
       "      <td>3</td>\n",
       "      <td>2</td>\n",
       "      <td>Los Osos</td>\n",
       "      <td>2570 Rodman</td>\n",
       "      <td>779000.0</td>\n",
       "      <td>2315.0</td>\n",
       "      <td>336.501080</td>\n",
       "      <td>0</td>\n",
       "      <td>None</td>\n",
       "      <td>None</td>\n",
       "      <td>1988</td>\n",
       "    </tr>\n",
       "    <tr>\n",
       "      <th>4</th>\n",
       "      <td>1073009</td>\n",
       "      <td>3</td>\n",
       "      <td>1</td>\n",
       "      <td>Morro Bay</td>\n",
       "      <td>350 Rennell</td>\n",
       "      <td>429000.0</td>\n",
       "      <td>955.0</td>\n",
       "      <td>449.214660</td>\n",
       "      <td>0</td>\n",
       "      <td>None</td>\n",
       "      <td>None</td>\n",
       "      <td>1988</td>\n",
       "    </tr>\n",
       "  </tbody>\n",
       "</table>\n",
       "</div>"
      ],
      "text/plain": [
       "   MLS Key  Num Bedrooms  Num Bathrooms           City        Address  \\\n",
       "0  1073005             4              3  Arroyo Grande   1351 Newport   \n",
       "1  1072924             3              2     Atascadero     6200 Buena   \n",
       "2  1073010             3              3   Grover Beach  1239 Aberdeen   \n",
       "3  1072942             3              2       Los Osos    2570 Rodman   \n",
       "4  1073009             3              1      Morro Bay    350 Rennell   \n",
       "\n",
       "      Price  Sqr Footage    Unknown1  Unknown2 Unknown3 Unknown4  Year Sold  \n",
       "0  849000.0       3076.0  276.007802         0     None     None       1988  \n",
       "1  399000.0       1400.0  285.000000         0     None     None       1988  \n",
       "2  529900.0       1894.0  279.778247         0     None     None       1988  \n",
       "3  779000.0       2315.0  336.501080         0     None     None       1988  \n",
       "4  429000.0        955.0  449.214660         0     None     None       1988  "
      ]
     },
     "execution_count": 57,
     "metadata": {},
     "output_type": "execute_result"
    }
   ],
   "source": [
    "get_query('SELECT * FROM HOUSES').head()"
   ]
  },
  {
   "cell_type": "code",
   "execution_count": null,
   "metadata": {
    "collapsed": true
   },
   "outputs": [],
   "source": []
  }
 ],
 "metadata": {
  "kernelspec": {
   "display_name": "Python 3",
   "language": "python",
   "name": "python3"
  },
  "language_info": {
   "codemirror_mode": {
    "name": "ipython",
    "version": 3
   },
   "file_extension": ".py",
   "mimetype": "text/x-python",
   "name": "python",
   "nbconvert_exporter": "python",
   "pygments_lexer": "ipython3",
   "version": "3.5.2"
  }
 },
 "nbformat": 4,
 "nbformat_minor": 1
}
