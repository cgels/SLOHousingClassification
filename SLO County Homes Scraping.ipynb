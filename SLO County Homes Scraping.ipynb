{
  "cells": [
    {
      "cell_type": "code",
      "execution_count": 2,
      "metadata": {
        "collapsed": false
      },
      "outputs": [],
      "source": [
        "from bs4 import BeautifulSoup\n",
        "import pandas as pd \n",
        "import numpy as np\n",
        "import requests\n",
        "import sqlite3\n",
        "import datetime\n",
        "df = pd.DataFrame({\"MLS\": [],\"Street\": [], \"City\":[],\"List Price\":[],\"Bedrooms\":[],\"Bathrooms\":[],\"Square Footage\":[],\"Date\":[]})\n"
      ]
    },
    {
      "cell_type": "code",
      "execution_count": 3,
      "metadata": {
        "collapsed": false
      },
      "outputs": [],
      "source": [
        "def scraping(dataframe):\n",
        "    page=requests.get(\"http://www.slocountyhomes.com/newlistex.php\")\n",
        "    data=BeautifulSoup(page.text,\"html.parser\")\n",
        "    i=0\n",
        "    date=\"\"\n",
        "    date=\"NA\"\n",
        "    MLS=\"\"\n",
        "    Street=\"\"\n",
        "    City=\"\"\n",
        "    List=\"\"\n",
        "    Bed=\"\"\n",
        "    Bath=\"\"\n",
        "    Sq=0\n",
        "    Date=\"\"\n",
        "    \n",
        "    for table in data.find_all('td'):\n",
        "        if len(table.text.split(\"November\")) != 1:\n",
        "            date = table.text\n",
        "        elif table.text.strip() == \"\":\n",
        "            if (i != 0):\n",
        "                # Found missing data\n",
        "                i += 1\n",
        "                if (i == 7):\n",
        "                    i = 0\n",
        "                    #dataframe.loc[len(dataframe)]=[Bath,Bed,City,date,List,MLS,Sq,Street]\n",
        "        else:\n",
        "            if i == 0:\n",
        "                MLS = table.text.strip()\n",
        "                i += 1\n",
        "            elif i == 1:\n",
        "                Street = sqlize_string(table.text.strip())\n",
        "                i += 1\n",
        "            elif i == 2:\n",
        "                City = sqlize_string(table.text.strip())\n",
        "                i += 1\n",
        "            elif i == 3:\n",
        "                List = int(table.text.strip()[1:].replace(\",\",\"\"))\n",
        "                i += 1\n",
        "            elif i == 4:\n",
        "                Bed = int(table.text.strip())\n",
        "                i += 1\n",
        "            elif i == 5:\n",
        "                Bath = int(table.text.strip())\n",
        "                i += 1\n",
        "            elif i == 6:\n",
        "                Sq = int(table.text.strip())\n",
        "                i = 0\n",
        "                dataframe.loc[len(dataframe)]=[Bath,Bed,City,date,List,MLS,Sq,Street]\n",
        "                \n",
        "    dataframe=dataframe.drop_duplicates()\n",
        "    return dataframe"
      ]
    },
    {
      "cell_type": "code",
      "execution_count": 4,
      "metadata": {
        "collapsed": false
      },
      "outputs": [],
      "source": [
        "def sqlize_string(string):\n",
        "    return \"'\" + string + \"'\""
      ]
    },
    {
      "cell_type": "markdown",
      "metadata": {},
      "outputs": [],
      "source": [
        "Lot size most important in prediction \n"
      ]
    },
    {
      "cell_type": "code",
      "execution_count": 5,
      "metadata": {
        "collapsed": false
      },
      "outputs": [],
      "source": [
        "#for td in data.find_all('td'):\n",
        "#    print(td.text.lstrip().rstrip())"
      ]
    },
    {
      "cell_type": "code",
      "execution_count": 6,
      "metadata": {
        "collapsed": false
      },
      "outputs": [],
      "source": [
        "df=scraping(df)"
      ]
    },
    {
      "cell_type": "code",
      "execution_count": 7,
      "metadata": {
        "collapsed": false,
        "scrolled": true
      },
      "outputs": [],
      "source": [
        "months = [\"January\", \"February\", \"March\", \"April\", \"May\", \"June\", \"July\", \"August\", \"September\", \"October\", \"November\", \"December\"]\n",
        "month_map = {key:int(val) for key,val in zip(months, range(1,13))}\n",
        "month_map"
      ]
    },
    {
      "cell_type": "code",
      "execution_count": 9,
      "metadata": {
        "collapsed": true
      },
      "outputs": [],
      "source": [
        "def insert_houses(df):\n",
        "    conn = sqlite3.connect('slo_housing.db')\n",
        "    print(\"Opened database successfully\");\n",
        "    stmt = \"INSERT INTO HOUSES (MLS_ID,BED,BATH,CITY, ADDRESS, LIST_PRICE, SQ_FOOTAGE, PRICE_PER_SQFT, LIST_DATE) \\\n",
        "          VALUES ({}, {}, {}, {}, {}, {}, {}, {}, {})\"\n",
        "    for idx, row in df.iterrows():\n",
        "        try:\n",
        "            conn.execute(stmt.format(row['MLS'], row['Bedrooms'], row['Bathrooms'], row['City'],\n",
        "                                 row['Street'], row['List Price'], row['Square Footage'],\n",
        "                                 int(row['List Price']) / int(row['Square Footage']), \n",
        "                                 datetime.date(2016, month_map[row['Date'].split()[0]], int(row['Date'].split()[1]))\n",
        "                                ));\n",
        "        except:\n",
        "            print(error)\n",
        "    conn.commit()\n",
        "    print(\"Records created successfully\");\n",
        "    conn.close()"
      ]
    },
    {
      "cell_type": "code",
      "execution_count": 10,
      "metadata": {
        "collapsed": false
      },
      "outputs": [],
      "source": [
        "insert_houses(df)"
      ]
    },
    {
      "cell_type": "code",
      "execution_count": 14,
      "metadata": {
        "collapsed": false
      },
      "outputs": [],
      "source": [
        "conn = sqlite3.connect('slo_housing.db')\n",
        "check = conn.execute(\"SELECT * FROM HOUSES\")\n",
        "results = check.fetchall()\n",
        "conn.close()"
      ]
    },
    {
      "cell_type": "code",
      "execution_count": 15,
      "metadata": {
        "collapsed": false
      },
      "outputs": [],
      "source": [
        "df = pd.DataFrame(check.fetchall())\n",
        "\n",
        "def get_query(query):\n",
        "    var_names = ['MLS Key','Num Bedrooms','Num Bathrooms', 'City', 'Address', 'Price',\n",
        "                'Sqr Footage', 'Unknown1', 'Unknown2', 'Unknown3', 'Unknown4', 'Year Sold']\n",
        "    conn = sqlite3.connect('slo_housing.db')\n",
        "    df = pd.DataFrame(conn.execute(query).fetchall())\n",
        "    del df[0]\n",
        "    df.columns = var_names\n",
        "    return df\n",
        "    "
      ]
    },
    {
      "cell_type": "code",
      "execution_count": 10,
      "metadata": {
        "collapsed": false
      },
      "outputs": [],
      "source": [
        "get_query('SELECT * FROM HOUSES').head()"
      ]
    },
    {
      "cell_type": "code",
      "execution_count": null,
      "metadata": {
        "collapsed": true
      },
      "outputs": [],
      "source": []
    }
  ],
  "metadata": {
    "kernelspec": {
      "display_name": "Python 3",
      "language": "python",
      "name": "python3"
    },
    "language_info": {
      "codemirror_mode": {
        "name": "ipython",
        "version": 3
      },
      "file_extension": ".py",
      "mimetype": "text/x-python",
      "name": "python",
      "nbconvert_exporter": "python",
      "pygments_lexer": "ipython3",
      "version": "3.5.2"
    }
  },
  "nbformat": 4,
  "nbformat_minor": 1
}
