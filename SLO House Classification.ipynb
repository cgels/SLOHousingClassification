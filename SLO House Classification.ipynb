{
 "cells": [
  {
   "cell_type": "code",
   "execution_count": 1,
   "metadata": {
    "collapsed": true
   },
   "outputs": [],
   "source": [
    "import pandas as pd\n",
    "import numpy as np\n",
    "import requests\n",
    "import sqlite3\n",
    "import datetime\n",
    "import re\n",
    "from sklearn.svm import SVC\n",
    "from sklearn.neighbors import KNeighborsClassifier\n",
    "from sklearn.model_selection import train_test_split\n",
    "from sklearn.tree import DecisionTreeClassifier\n",
    "from sklearn.naive_bayes import GaussianNB\n",
    "from sklearn.gaussian_process import GaussianProcessClassifier\n",
    "from sqlite_api import SLOHouseDatabase"
   ]
  },
  {
   "cell_type": "code",
   "execution_count": 2,
   "metadata": {
    "collapsed": false
   },
   "outputs": [
    {
     "data": {
      "text/html": [
       "<div>\n",
       "<table border=\"1\" class=\"dataframe\">\n",
       "  <thead>\n",
       "    <tr style=\"text-align: right;\">\n",
       "      <th></th>\n",
       "      <th>ID</th>\n",
       "      <th>MLS_ID</th>\n",
       "      <th>CITY</th>\n",
       "      <th>ADDRESS</th>\n",
       "      <th>BED</th>\n",
       "      <th>BATH</th>\n",
       "      <th>LIST_PRICE</th>\n",
       "      <th>SQ_FOOTAGE</th>\n",
       "      <th>PRICE_PER_SQFT</th>\n",
       "      <th>LIST_DATE</th>\n",
       "      <th>ID</th>\n",
       "      <th>SUBTYPE</th>\n",
       "      <th>AREA</th>\n",
       "      <th>YR_BUILT</th>\n",
       "      <th>LOT_SQFT</th>\n",
       "      <th>VIEW</th>\n",
       "      <th>POOL</th>\n",
       "      <th>ARB_COMISSION</th>\n",
       "    </tr>\n",
       "  </thead>\n",
       "  <tbody>\n",
       "    <tr>\n",
       "      <th>0</th>\n",
       "      <td>8538</td>\n",
       "      <td>1069605</td>\n",
       "      <td>Arroyo Grande</td>\n",
       "      <td>4410 Upper Lopez Canyon</td>\n",
       "      <td>1</td>\n",
       "      <td>1</td>\n",
       "      <td>345000.0</td>\n",
       "      <td>720.0</td>\n",
       "      <td>479.0</td>\n",
       "      <td>2016-10-13</td>\n",
       "      <td>1</td>\n",
       "      <td>SFR/D</td>\n",
       "      <td>ARRG</td>\n",
       "      <td>1985</td>\n",
       "      <td>1764842</td>\n",
       "      <td>1</td>\n",
       "      <td>0</td>\n",
       "      <td>3.50</td>\n",
       "    </tr>\n",
       "    <tr>\n",
       "      <th>1</th>\n",
       "      <td>8305</td>\n",
       "      <td>1070362</td>\n",
       "      <td>Arroyo Grande</td>\n",
       "      <td>345 Tiger Tail</td>\n",
       "      <td>2</td>\n",
       "      <td>2</td>\n",
       "      <td>379000.0</td>\n",
       "      <td>1312.0</td>\n",
       "      <td>288.0</td>\n",
       "      <td>2016-10-21</td>\n",
       "      <td>4</td>\n",
       "      <td>SFR/A</td>\n",
       "      <td>ARRG</td>\n",
       "      <td>1976</td>\n",
       "      <td>3999</td>\n",
       "      <td>1</td>\n",
       "      <td>0</td>\n",
       "      <td>2.50</td>\n",
       "    </tr>\n",
       "    <tr>\n",
       "      <th>2</th>\n",
       "      <td>8519</td>\n",
       "      <td>1069663</td>\n",
       "      <td>Arroyo Grande</td>\n",
       "      <td>1164 Pacific Pointe</td>\n",
       "      <td>3</td>\n",
       "      <td>2</td>\n",
       "      <td>449000.0</td>\n",
       "      <td>1326.0</td>\n",
       "      <td>338.0</td>\n",
       "      <td>2016-10-13</td>\n",
       "      <td>5</td>\n",
       "      <td>SFR/A</td>\n",
       "      <td>ARRG</td>\n",
       "      <td>1989</td>\n",
       "      <td>3999</td>\n",
       "      <td>1</td>\n",
       "      <td>0</td>\n",
       "      <td>2.25</td>\n",
       "    </tr>\n",
       "    <tr>\n",
       "      <th>3</th>\n",
       "      <td>4317</td>\n",
       "      <td>1072933</td>\n",
       "      <td>Arroyo Grande</td>\n",
       "      <td>306 Hondonada</td>\n",
       "      <td>2</td>\n",
       "      <td>2</td>\n",
       "      <td>519000.0</td>\n",
       "      <td>1746.0</td>\n",
       "      <td>297.0</td>\n",
       "      <td>2016-11-15</td>\n",
       "      <td>10</td>\n",
       "      <td>SFR/D</td>\n",
       "      <td>ARRG</td>\n",
       "      <td>0</td>\n",
       "      <td>206309</td>\n",
       "      <td>1</td>\n",
       "      <td>0</td>\n",
       "      <td>2.50</td>\n",
       "    </tr>\n",
       "    <tr>\n",
       "      <th>4</th>\n",
       "      <td>4318</td>\n",
       "      <td>1072919</td>\n",
       "      <td>Arroyo Grande</td>\n",
       "      <td>327 Corona Del Terra</td>\n",
       "      <td>3</td>\n",
       "      <td>2</td>\n",
       "      <td>560000.0</td>\n",
       "      <td>1608.0</td>\n",
       "      <td>348.0</td>\n",
       "      <td>2016-11-15</td>\n",
       "      <td>15</td>\n",
       "      <td>SFR/D</td>\n",
       "      <td>ARRG</td>\n",
       "      <td>1975</td>\n",
       "      <td>7802</td>\n",
       "      <td>1</td>\n",
       "      <td>0</td>\n",
       "      <td>3.00</td>\n",
       "    </tr>\n",
       "  </tbody>\n",
       "</table>\n",
       "</div>"
      ],
      "text/plain": [
       "     ID   MLS_ID           CITY                  ADDRESS  BED  BATH  \\\n",
       "0  8538  1069605  Arroyo Grande  4410 Upper Lopez Canyon    1     1   \n",
       "1  8305  1070362  Arroyo Grande           345 Tiger Tail    2     2   \n",
       "2  8519  1069663  Arroyo Grande      1164 Pacific Pointe    3     2   \n",
       "3  4317  1072933  Arroyo Grande            306 Hondonada    2     2   \n",
       "4  4318  1072919  Arroyo Grande     327 Corona Del Terra    3     2   \n",
       "\n",
       "   LIST_PRICE  SQ_FOOTAGE  PRICE_PER_SQFT   LIST_DATE  ID SUBTYPE  AREA  \\\n",
       "0    345000.0       720.0           479.0  2016-10-13   1   SFR/D  ARRG   \n",
       "1    379000.0      1312.0           288.0  2016-10-21   4   SFR/A  ARRG   \n",
       "2    449000.0      1326.0           338.0  2016-10-13   5   SFR/A  ARRG   \n",
       "3    519000.0      1746.0           297.0  2016-11-15  10   SFR/D  ARRG   \n",
       "4    560000.0      1608.0           348.0  2016-11-15  15   SFR/D  ARRG   \n",
       "\n",
       "   YR_BUILT  LOT_SQFT  VIEW  POOL  ARB_COMISSION  \n",
       "0      1985   1764842     1     0           3.50  \n",
       "1      1976      3999     1     0           2.50  \n",
       "2      1989      3999     1     0           2.25  \n",
       "3         0    206309     1     0           2.50  \n",
       "4      1975      7802     1     0           3.00  "
      ]
     },
     "execution_count": 2,
     "metadata": {},
     "output_type": "execute_result"
    }
   ],
   "source": [
    "dbquery = SLOHouseDatabase()\n",
    "df = dbquery.get_dataframe_from_query(\"SELECT * FROM HOUSES JOIN MLS_LISTINGS USING (MLS_ID)\")\n",
    "df.head()"
   ]
  },
  {
   "cell_type": "code",
   "execution_count": 3,
   "metadata": {
    "collapsed": true
   },
   "outputs": [],
   "source": [
    "def extract_subtype(subtype):\n",
    "    if (subtype.split('/')[1] == 'D'):\n",
    "        return 0\n",
    "    return 1"
   ]
  },
  {
   "cell_type": "code",
   "execution_count": 4,
   "metadata": {
    "collapsed": true
   },
   "outputs": [],
   "source": [
    "def extract_decade(year):\n",
    "    if year == 0:\n",
    "        return 'N/A'\n",
    "    if year < 1960:\n",
    "        return '< 60s'\n",
    "    if year < 1970:\n",
    "        return '60s'\n",
    "    if year < 1980:\n",
    "        return '70s'\n",
    "    if year < 1990:\n",
    "        return '80s'\n",
    "    if year < 2000:\n",
    "        return '90s'\n",
    "    if year < 2010:\n",
    "        return '2000s'\n",
    "    return '2010s'"
   ]
  },
  {
   "cell_type": "code",
   "execution_count": 5,
   "metadata": {
    "collapsed": true
   },
   "outputs": [],
   "source": [
    "def classify(df, X_vars, y_var):\n",
    "    if type(X_vars) is not list:\n",
    "        X = df[X_vars].reshape(-1,1)\n",
    "    else:\n",
    "        X = df[X_vars]\n",
    "    y = df[y_var]\n",
    "\n",
    "    X_train, X_test, y_train, y_test = train_test_split(X, y, test_size=0.33, random_state=26)\n",
    "\n",
    "    print('Classification Accuracies')\n",
    "    svc = SVC()\n",
    "    svc.fit(X_train, y_train)\n",
    "    print('Support Vector: ' + str(svc.score(X_test, y_test)))\n",
    "    \n",
    "    max_score = 0\n",
    "    for i in range(1, 6):\n",
    "        kNN = KNeighborsClassifier(n_neighbors=i)\n",
    "        kNN.fit(X_train, y_train)\n",
    "        cur_score = kNN.score(X_test, y_test)\n",
    "        if cur_score > max_score:\n",
    "            max_score = cur_score\n",
    "            maxN = i\n",
    "    print('kNN (N = '+str(maxN)+'): ' + str(max_score))\n",
    "    \n",
    "    dtc = DecisionTreeClassifier()\n",
    "    dtc.fit(X_train, y_train)\n",
    "    print('Decision Tree: ' + str(dtc.score(X_test, y_test)))\n",
    "    \n",
    "    nbc = GaussianNB()\n",
    "    nbc.fit(X_train, y_train)\n",
    "    print('Naive Bayes: '+ str(nbc.score(X_test, y_test)))\n",
    "    \n",
    "    gpc = GaussianProcessClassifier()\n",
    "    gpc.fit(X_train, y_train)\n",
    "    print('Gaussian Process: '+ str(gpc.score(X_test, y_test)))"
   ]
  },
  {
   "cell_type": "code",
   "execution_count": 6,
   "metadata": {
    "collapsed": true
   },
   "outputs": [],
   "source": [
    "df['Apartment'] = df['SUBTYPE'].apply(extract_subtype)\n",
    "df = pd.concat([df, pd.get_dummies(df.CITY)], axis=1)"
   ]
  },
  {
   "cell_type": "code",
   "execution_count": 7,
   "metadata": {
    "collapsed": true
   },
   "outputs": [],
   "source": [
    "class_vars = ['Arroyo Grande',\n",
    "             'Atascadero',\n",
    "             'Avila Beach',\n",
    "             'Morro Bay',\n",
    "             'Pismo Beach',\n",
    "             'San Luis Obispo',\n",
    "             'Templeton',\n",
    "             'BED',\n",
    "             'BATH',\n",
    "             'LIST_PRICE',\n",
    "             'SQ_FOOTAGE',\n",
    "             'PRICE_PER_SQFT',\n",
    "             'LOT_SQFT',\n",
    "             'ARB_COMISSION',\n",
    "             'POOL'\n",
    "             ]"
   ]
  },
  {
   "cell_type": "code",
   "execution_count": 8,
   "metadata": {
    "collapsed": false
   },
   "outputs": [],
   "source": [
    "X = df[class_vars]\n",
    "y = df['Apartment']\n",
    "\n",
    "X_train, X_test, y_train, y_test = train_test_split(X, y, test_size=0.33, random_state=26)"
   ]
  },
  {
   "cell_type": "markdown",
   "metadata": {},
   "source": [
    "Square footage of the entire lot is already a good predictor of whether the house is an apartment, so let's test classify function on a single variables"
   ]
  },
  {
   "cell_type": "code",
   "execution_count": 9,
   "metadata": {
    "collapsed": false
   },
   "outputs": [
    {
     "name": "stdout",
     "output_type": "stream",
     "text": [
      "Classification Accuracies\n",
      "Support Vector: 0.947136563877\n",
      "kNN (N = 1): 0.929515418502\n",
      "Decision Tree: 0.947136563877\n",
      "Naive Bayes: 0.378854625551\n",
      "Gaussian Process: 0.947136563877\n"
     ]
    }
   ],
   "source": [
    "classify(df, 'LOT_SQFT', 'Apartment')"
   ]
  },
  {
   "cell_type": "markdown",
   "metadata": {},
   "source": [
    "Now test the full model to predict apartments and see which classifiers perform best"
   ]
  },
  {
   "cell_type": "code",
   "execution_count": 10,
   "metadata": {
    "collapsed": false
   },
   "outputs": [
    {
     "name": "stdout",
     "output_type": "stream",
     "text": [
      "Classification Accuracies\n",
      "Support Vector: 1.0\n",
      "kNN (N = 1): 0.986784140969\n",
      "Decision Tree: 0.986784140969\n",
      "Naive Bayes: 0.519823788546\n",
      "Gaussian Process: 1.0\n"
     ]
    }
   ],
   "source": [
    "classify(df, class_vars, 'Apartment')"
   ]
  },
  {
   "cell_type": "code",
   "execution_count": 11,
   "metadata": {
    "collapsed": false
   },
   "outputs": [
    {
     "data": {
      "text/plain": [
       "80s      156\n",
       "2000s    132\n",
       "< 60s    105\n",
       "N/A       78\n",
       "70s       66\n",
       "90s       60\n",
       "60s       48\n",
       "2010s     42\n",
       "Name: Decade, dtype: int64"
      ]
     },
     "execution_count": 11,
     "metadata": {},
     "output_type": "execute_result"
    }
   ],
   "source": [
    "df['Decade'] = df.YR_BUILT.apply(extract_decade)\n",
    "df.Decade.value_counts()"
   ]
  },
  {
   "cell_type": "markdown",
   "metadata": {},
   "source": [
    "Classifying which decade the house was built in"
   ]
  },
  {
   "cell_type": "code",
   "execution_count": 12,
   "metadata": {
    "collapsed": false
   },
   "outputs": [
    {
     "name": "stdout",
     "output_type": "stream",
     "text": [
      "Classification Accuracies\n",
      "Support Vector: 0.89552238806\n",
      "kNN (N = 1): 0.89552238806\n",
      "Decision Tree: 0.925373134328\n",
      "Naive Bayes: 0.203980099502\n",
      "Gaussian Process: 0.925373134328\n"
     ]
    }
   ],
   "source": [
    "mod_df = df[df['Decade'] != 'N/A']\n",
    "classify(mod_df, class_vars, 'Decade')"
   ]
  },
  {
   "cell_type": "code",
   "execution_count": null,
   "metadata": {
    "collapsed": true
   },
   "outputs": [],
   "source": []
  }
 ],
 "metadata": {
  "kernelspec": {
   "display_name": "Python 3",
   "language": "python",
   "name": "python3"
  },
  "language_info": {
   "codemirror_mode": {
    "name": "ipython",
    "version": 3
   },
   "file_extension": ".py",
   "mimetype": "text/x-python",
   "name": "python",
   "nbconvert_exporter": "python",
   "pygments_lexer": "ipython3",
   "version": "3.5.2"
  }
 },
 "nbformat": 4,
 "nbformat_minor": 1
}
