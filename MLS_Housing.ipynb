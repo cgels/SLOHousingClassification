{
 "cells": [
  {
   "cell_type": "code",
   "execution_count": 4,
   "metadata": {
    "collapsed": true
   },
   "outputs": [],
   "source": [
    "import pandas as pd\n",
    "import numpy as np\n",
    "import requests\n",
    "import sqlite3\n",
    "import datetime\n",
    "import re"
   ]
  },
  {
   "cell_type": "code",
   "execution_count": 5,
   "metadata": {
    "collapsed": true
   },
   "outputs": [],
   "source": [
    "desired_columns = [\"ListingID\", \"SubType\", \"MLSArea\", \"YrBuilt\", \"AcLSqft\", \"ViewYN\", \"PoolPrivateYN\", \"BAC\"]"
   ]
  },
  {
   "cell_type": "code",
   "execution_count": 6,
   "metadata": {
    "collapsed": false,
    "scrolled": false
   },
   "outputs": [],
   "source": [
    "single_fam_homes = pd.read_csv(\"data/MLS_SINGLEFAMILYHOMES.csv\")[desired_columns]\n",
    "not_sfh = pd.read_csv(\"data/MLS_NOT_SFH.csv\")[desired_columns]\n",
    "new_mls_data = pd.read_csv(\"data/NEWER_MLS_DATA.csv\")[desired_columns]"
   ]
  },
  {
   "cell_type": "markdown",
   "metadata": {},
   "source": [
    "massage features such as listing ID to match other database & parse Acre/LotSquareFootage to only have LotSquareFootage"
   ]
  },
  {
   "cell_type": "code",
   "execution_count": 7,
   "metadata": {
    "collapsed": false
   },
   "outputs": [],
   "source": [
    "clean_mls = lambda x : x[2:]\n",
    "\n",
    "single_fam_homes.ListingID = single_fam_homes.ListingID.apply(clean_mls)\n",
    "not_sfh.ListingID = not_sfh.ListingID.apply(clean_mls)\n",
    "new_mls_data.ListingID = new_mls_data.ListingID.apply(clean_mls)"
   ]
  },
  {
   "cell_type": "code",
   "execution_count": 8,
   "metadata": {
    "collapsed": false
   },
   "outputs": [],
   "source": [
    "clean_aclsqft = lambda x : int(x.split(\"/\")[-1].replace(\",\", \"\"))\n",
    "\n",
    "single_fam_homes.AcLSqft = single_fam_homes.AcLSqft.apply(clean_aclsqft)\n",
    "not_sfh.AcLSqft = not_sfh.AcLSqft.apply(clean_aclsqft)\n",
    "new_mls_data.AcLSqft = new_mls_data.AcLSqft.apply(clean_aclsqft)"
   ]
  },
  {
   "cell_type": "markdown",
   "metadata": {},
   "source": [
    "1 hot encode features such as notable View & private pool on property"
   ]
  },
  {
   "cell_type": "code",
   "execution_count": 9,
   "metadata": {
    "collapsed": false
   },
   "outputs": [],
   "source": [
    "one_hot_view = lambda x : 1 if x == \"Y\" else 0\n",
    "single_fam_homes.ViewYN = single_fam_homes.ViewYN.apply(one_hot_view)\n",
    "not_sfh.ViewYN = not_sfh.ViewYN.apply(one_hot_view)\n",
    "new_mls_data.ViewYN = new_mls_data.ViewYN.apply(one_hot_view)"
   ]
  },
  {
   "cell_type": "code",
   "execution_count": 10,
   "metadata": {
    "collapsed": true
   },
   "outputs": [],
   "source": [
    "one_hot_pool = lambda x : 1 if x == \"Y\" else 0\n",
    "single_fam_homes.PoolPrivateYN = single_fam_homes.PoolPrivateYN.apply(one_hot_pool)\n",
    "not_sfh.PoolPrivateYN = not_sfh.PoolPrivateYN.apply(one_hot_pool)\n",
    "new_mls_data.PoolPrivateYN = new_mls_data.PoolPrivateYN.apply(one_hot_pool)"
   ]
  },
  {
   "cell_type": "markdown",
   "metadata": {},
   "source": [
    "some years have \"/EST\" suffix"
   ]
  },
  {
   "cell_type": "code",
   "execution_count": 11,
   "metadata": {
    "collapsed": true
   },
   "outputs": [],
   "source": [
    "def parse_yrBuilt(x):\n",
    "    try:\n",
    "        return int(x.split(\"/\")[0])\n",
    "    except:\n",
    "        return x"
   ]
  },
  {
   "cell_type": "code",
   "execution_count": 12,
   "metadata": {
    "collapsed": false
   },
   "outputs": [],
   "source": [
    "single_fam_homes.YrBuilt = single_fam_homes.YrBuilt.apply(parse_yrBuilt)\n",
    "not_sfh.YrBuilt = not_sfh.YrBuilt.apply(parse_yrBuilt)\n",
    "new_mls_data.YrBuilt = new_mls_data.YrBuilt.apply(parse_yrBuilt)"
   ]
  },
  {
   "cell_type": "code",
   "execution_count": 13,
   "metadata": {
    "collapsed": false
   },
   "outputs": [],
   "source": [
    "pattern = re.compile(\"([\\d.]+)\")\n",
    "clean_bac = lambda x : re.search(pattern, x).group(0)\n",
    "\n",
    "single_fam_homes.BAC = single_fam_homes.BAC.apply(clean_bac)\n",
    "not_sfh.BAC = not_sfh.BAC.apply(clean_bac)\n",
    "new_mls_data.BAC = new_mls_data.BAC.apply(clean_bac)"
   ]
  },
  {
   "cell_type": "code",
   "execution_count": null,
   "metadata": {
    "collapsed": false
   },
   "outputs": [],
   "source": []
  },
  {
   "cell_type": "code",
   "execution_count": 14,
   "metadata": {
    "collapsed": false
   },
   "outputs": [],
   "source": [
    "from sqlite_api import MLSDatabase"
   ]
  },
  {
   "cell_type": "code",
   "execution_count": 15,
   "metadata": {
    "collapsed": true
   },
   "outputs": [],
   "source": [
    "db = MLSDatabase()"
   ]
  },
  {
   "cell_type": "code",
   "execution_count": 16,
   "metadata": {
    "collapsed": false
   },
   "outputs": [
    {
     "name": "stdout",
     "output_type": "stream",
     "text": [
      "Opened database successfully\n",
      "NOTICE:  table MLS_LISTINGS already exists\n",
      "Table created successfully\n"
     ]
    }
   ],
   "source": [
    "db.create_db()"
   ]
  },
  {
   "cell_type": "code",
   "execution_count": 17,
   "metadata": {
    "collapsed": false
   },
   "outputs": [
    {
     "name": "stdout",
     "output_type": "stream",
     "text": [
      "Connected to slo_housing.db\n",
      "Records created successfully\n",
      "Connected to slo_housing.db\n",
      "Records created successfully\n"
     ]
    }
   ],
   "source": [
    "db.insert_dataframe(single_fam_homes)\n",
    "db.insert_dataframe(not_sfh)"
   ]
  },
  {
   "cell_type": "code",
   "execution_count": 18,
   "metadata": {
    "collapsed": true
   },
   "outputs": [],
   "source": [
    "from sqlite_api import SLOHouseDatabase"
   ]
  },
  {
   "cell_type": "code",
   "execution_count": 19,
   "metadata": {
    "collapsed": true
   },
   "outputs": [],
   "source": [
    "dbquery = SLOHouseDatabase()"
   ]
  },
  {
   "cell_type": "code",
   "execution_count": 21,
   "metadata": {
    "collapsed": false
   },
   "outputs": [
    {
     "data": {
      "text/plain": [
       "458"
      ]
     },
     "execution_count": 21,
     "metadata": {},
     "output_type": "execute_result"
    }
   ],
   "source": [
    "len(dbquery.select_row(\"SELECT * FROM HOUSES JOIN MLS_LISTINGS USING (MLS_ID)\"))"
   ]
  },
  {
   "cell_type": "code",
   "execution_count": null,
   "metadata": {
    "collapsed": true
   },
   "outputs": [],
   "source": []
  }
 ],
 "metadata": {
  "kernelspec": {
   "display_name": "Python 3",
   "language": "python",
   "name": "python3"
  },
  "language_info": {
   "codemirror_mode": {
    "name": "ipython",
    "version": 3
   },
   "file_extension": ".py",
   "mimetype": "text/x-python",
   "name": "python",
   "nbconvert_exporter": "python",
   "pygments_lexer": "ipython3",
   "version": "3.5.2"
  }
 },
 "nbformat": 4,
 "nbformat_minor": 1
}
